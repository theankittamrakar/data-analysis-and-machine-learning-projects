{
 "cells": [
  {
   "cell_type": "markdown",
   "metadata": {
    "id": "0oSS1yEaeNIL"
   },
   "source": [
    "# Instructions and Requirements:\n",
    "## Instructions:\n",
    "*   This week students will have assignments,as describe in the presentations.\n",
    "*   Goal is to make students friendly with sklearn, so that they can perform there tasks.\n",
    "*   OLS and Gradient descent has been done with scratch to show the students, also check the python coding skills of the student to design future tasks accordingly.\n",
    "*   Please find the datasets in the google drive folders\n",
    "## Requirements:\n",
    "    *   Notebook Environment(Juopyter or Google Colab)\n",
    "    *   Students are expected to have following datasets:\n",
    "    *   brainhead.csv\n",
    "    *   student.csv\n",
    "    *   insurance.csv\n",
    "    *   salary.csv\n",
    "    *   bank.csv\n",
    "\n"
   ]
  },
  {
   "cell_type": "markdown",
   "metadata": {
    "id": "Kwyy89XfkSa2"
   },
   "source": [
    "# Week2 - Outline\n",
    "*   Gentle Introduction to Regression task Linear Regression\n",
    "    *   Cost/Objective Function\n",
    "    *   Analytical vs Gradient Descent Approach\n",
    "    *   Regularization methods \n",
    "    *   List item\n",
    "*   Gentle Introduction to Classification task Logistic Regression\n",
    "    *   Cost/Objective Function\n",
    "    *   Implementation with SKlearn\n",
    "\n",
    "*   Requirements\n",
    "    *   Notebook Environment(Juopyter or Google Colab)\n",
    "    *   Students are expected to have following datasets:\n",
    "    *   brainhead.csv\n",
    "    *   student.csv\n",
    "    *   insurance.csv\n",
    "    *   salary.csv\n",
    "    *   bank.csv\n",
    "\n",
    "\n",
    "\n",
    "\n",
    "\n",
    "\n",
    "\n",
    "\n",
    "\n",
    "\n"
   ]
  },
  {
   "cell_type": "markdown",
   "metadata": {
    "id": "H5bTJM5kmZJw"
   },
   "source": [
    "#Regression\n",
    "The task of the Regression Algorithm is to find the maping function to map the input variable(x) to the continious output variable(y).\n",
    "Regression analysis estimates the realtionship between a dependent variables and independent variables.\n",
    "In the class we talked about two different approach\n",
    "\n",
    "\n",
    "1.   Analytical Approach i.e Ordinary Least Square Methods\n",
    "2.   Machine Learning Approach i.e Using Gradient Descent\n",
    "In this exercise you are expected to implement both the methods from scratch.\n"
   ]
  },
  {
   "cell_type": "markdown",
   "metadata": {
    "id": "fZ0ybrtumluG"
   },
   "source": [
    "#Ordinary Least Square Implementation from scratch\n",
    "As per the Lectures, we can define the linear relationships between two variables as follows:\n",
    "\\begin{align}\n",
    "        \\mathbf{y} = \\theta _o + \\theta_1x\n",
    "    \\end{align}\n",
    "\n",
    "Here:\n",
    "$\\theta _1$ is called scale factor or coefficient/slope and can be calculate as:\n",
    "\\begin{align}\n",
    "        \\mathbf{\\theta _1} = \\frac{\\sum_{i=0}^n(x_i-\\bar(x)))(y_i-\\bar(y)) }{\\sum_{i=1}^n(x_i-\\bar(x))}.\n",
    "    \\end{align}\n",
    "$\\theta_o$ is an intercept and calculated as:\n",
    "\\begin{align}\n",
    "        \\mathbf{\\theta_o} = \\bar(y) - \\theta_1 \\bar(x)\n",
    "    \\end{align}\n",
    "Implementation:\n",
    "Start with Necessary Imports:"
   ]
  },
  {
   "cell_type": "code",
   "execution_count": 2,
   "metadata": {
    "id": "-fUlDZWZngbB"
   },
   "outputs": [],
   "source": [
    "import numpy as np\n",
    "import pandas as pd\n",
    "import matplotlib.pyplot as plt\n",
    "plt.rcParams['figure.figsize'] = (20.0, 10.0)"
   ]
  },
  {
   "cell_type": "markdown",
   "metadata": {
    "id": "f5uyA09wpZco"
   },
   "source": [
    "## Step-1\n",
    "(Datasets for this particular task is <b>headbrain.csv</b>)\n",
    "\n",
    "\n",
    "*   Decision Task:\n",
    "    *   Predicti the weight of brain from given datasets.\n",
    "    *   Approach Simple Linear Regression with OLS.\n",
    "*   Error Function and Evaluation Metrics:\n",
    "    *   MSE.\n",
    "    *  R squared.\n",
    "*   Tasks to DO:\n",
    "    *   Read the dataset using pandas.\n",
    "    *   Display top 5 and bottom 5 rows of datasets.\n",
    "    *   Information of the datasets\n",
    "    *   We are doing mathematical operations we need to convert our feature and target variable into arrays.\n",
    "\n",
    "\n",
    "\n"
   ]
  },
  {
   "cell_type": "code",
   "execution_count": 3,
   "metadata": {},
   "outputs": [
    {
     "name": "stdout",
     "output_type": "stream",
     "text": [
      "(237, 4)\n"
     ]
    },
    {
     "data": {
      "text/html": [
       "<div>\n",
       "<style scoped>\n",
       "    .dataframe tbody tr th:only-of-type {\n",
       "        vertical-align: middle;\n",
       "    }\n",
       "\n",
       "    .dataframe tbody tr th {\n",
       "        vertical-align: top;\n",
       "    }\n",
       "\n",
       "    .dataframe thead th {\n",
       "        text-align: right;\n",
       "    }\n",
       "</style>\n",
       "<table border=\"1\" class=\"dataframe\">\n",
       "  <thead>\n",
       "    <tr style=\"text-align: right;\">\n",
       "      <th></th>\n",
       "      <th>Gender</th>\n",
       "      <th>Age Range</th>\n",
       "      <th>Head Size(cm^3)</th>\n",
       "      <th>Brain Weight(grams)</th>\n",
       "    </tr>\n",
       "  </thead>\n",
       "  <tbody>\n",
       "    <tr>\n",
       "      <th>0</th>\n",
       "      <td>1</td>\n",
       "      <td>1</td>\n",
       "      <td>4512</td>\n",
       "      <td>1530</td>\n",
       "    </tr>\n",
       "    <tr>\n",
       "      <th>1</th>\n",
       "      <td>1</td>\n",
       "      <td>1</td>\n",
       "      <td>3738</td>\n",
       "      <td>1297</td>\n",
       "    </tr>\n",
       "    <tr>\n",
       "      <th>2</th>\n",
       "      <td>1</td>\n",
       "      <td>1</td>\n",
       "      <td>4261</td>\n",
       "      <td>1335</td>\n",
       "    </tr>\n",
       "    <tr>\n",
       "      <th>3</th>\n",
       "      <td>1</td>\n",
       "      <td>1</td>\n",
       "      <td>3777</td>\n",
       "      <td>1282</td>\n",
       "    </tr>\n",
       "    <tr>\n",
       "      <th>4</th>\n",
       "      <td>1</td>\n",
       "      <td>1</td>\n",
       "      <td>4177</td>\n",
       "      <td>1590</td>\n",
       "    </tr>\n",
       "  </tbody>\n",
       "</table>\n",
       "</div>"
      ],
      "text/plain": [
       "   Gender  Age Range  Head Size(cm^3)  Brain Weight(grams)\n",
       "0       1          1             4512                 1530\n",
       "1       1          1             3738                 1297\n",
       "2       1          1             4261                 1335\n",
       "3       1          1             3777                 1282\n",
       "4       1          1             4177                 1590"
      ]
     },
     "execution_count": 3,
     "metadata": {},
     "output_type": "execute_result"
    }
   ],
   "source": [
    "#import the dataset and display.\n",
    "data = pd.read_csv('headbrain.csv')\n",
    "print(data.shape)\n",
    "data.head()"
   ]
  },
  {
   "cell_type": "markdown",
   "metadata": {
    "id": "66MLG8kZwcsZ"
   },
   "source": [
    "### Find the mean\n",
    "To find the values of $\\theta_o $ and $\\theta_1$ we first need to calculate the mean of X and Y"
   ]
  },
  {
   "cell_type": "code",
   "execution_count": 5,
   "metadata": {
    "id": "McuxVvZmvu9W"
   },
   "outputs": [
    {
     "data": {
      "text/plain": [
       "0      4512\n",
       "1      3738\n",
       "2      4261\n",
       "3      3777\n",
       "4      4177\n",
       "       ... \n",
       "232    3214\n",
       "233    3394\n",
       "234    3233\n",
       "235    3352\n",
       "236    3391\n",
       "Name: Head Size(cm^3), Length: 237, dtype: int64"
      ]
     },
     "execution_count": 5,
     "metadata": {},
     "output_type": "execute_result"
    }
   ],
   "source": [
    "X = data['Head Size(cm^3)']\n",
    "X"
   ]
  },
  {
   "cell_type": "code",
   "execution_count": 6,
   "metadata": {},
   "outputs": [
    {
     "data": {
      "text/plain": [
       "pandas.core.series.Series"
      ]
     },
     "execution_count": 6,
     "metadata": {},
     "output_type": "execute_result"
    }
   ],
   "source": [
    "type(X)"
   ]
  },
  {
   "cell_type": "code",
   "execution_count": 9,
   "metadata": {},
   "outputs": [
    {
     "data": {
      "text/plain": [
       "array([4512, 3738, 4261, 3777, 4177, 3585, 3785, 3559, 3613, 3982, 3443,\n",
       "       3993, 3640, 4208, 3832, 3876, 3497, 3466, 3095, 4424, 3878, 4046,\n",
       "       3804, 3710, 4747, 4423, 4036, 4022, 3454, 4175, 3787, 3796, 4103,\n",
       "       4161, 4158, 3814, 3527, 3748, 3334, 3492, 3962, 3505, 4315, 3804,\n",
       "       3863, 4034, 4308, 3165, 3641, 3644, 3891, 3793, 4270, 4063, 4012,\n",
       "       3458, 3890, 4166, 3935, 3669, 3866, 3393, 4442, 4253, 3727, 3329,\n",
       "       3415, 3372, 4430, 4381, 4008, 3858, 4121, 4057, 3824, 3394, 3558,\n",
       "       3362, 3930, 3835, 3830, 3856, 3249, 3577, 3933, 3850, 3309, 3406,\n",
       "       3506, 3907, 4160, 3318, 3662, 3899, 3700, 3779, 3473, 3490, 3654,\n",
       "       3478, 3495, 3834, 3876, 3661, 3618, 3648, 4032, 3399, 3916, 4430,\n",
       "       3695, 3524, 3571, 3594, 3383, 3499, 3589, 3900, 4114, 3937, 3399,\n",
       "       4200, 4488, 3614, 4051, 3782, 3391, 3124, 4053, 3582, 3666, 3532,\n",
       "       4046, 3667, 2857, 3436, 3791, 3302, 3104, 3171, 3572, 3530, 3175,\n",
       "       3438, 3903, 3899, 3401, 3267, 3451, 3090, 3413, 3323, 3680, 3439,\n",
       "       3853, 3156, 3279, 3707, 4006, 3269, 3071, 3779, 3548, 3292, 3497,\n",
       "       3082, 3248, 3358, 3803, 3566, 3145, 3503, 3571, 3724, 3615, 3203,\n",
       "       3609, 3561, 3979, 3533, 3689, 3158, 4005, 3181, 3479, 3642, 3632,\n",
       "       3069, 3394, 3703, 3165, 3354, 3000, 3687, 3556, 2773, 3058, 3344,\n",
       "       3493, 3297, 3360, 3228, 3277, 3851, 3067, 3692, 3402, 3995, 3318,\n",
       "       2720, 2937, 3580, 2939, 2989, 3586, 3156, 3246, 3170, 3268, 3389,\n",
       "       3381, 2864, 3740, 3479, 3647, 3716, 3284, 4204, 3735, 3218, 3685,\n",
       "       3704, 3214, 3394, 3233, 3352, 3391], dtype=int64)"
      ]
     },
     "execution_count": 9,
     "metadata": {},
     "output_type": "execute_result"
    }
   ],
   "source": [
    "X = data[\"Head Size(cm^3)\"].values\n",
    "X"
   ]
  },
  {
   "cell_type": "code",
   "execution_count": 10,
   "metadata": {},
   "outputs": [
    {
     "data": {
      "text/plain": [
       "numpy.ndarray"
      ]
     },
     "execution_count": 10,
     "metadata": {},
     "output_type": "execute_result"
    }
   ],
   "source": [
    "type(X)"
   ]
  },
  {
   "cell_type": "code",
   "execution_count": 11,
   "metadata": {},
   "outputs": [
    {
     "name": "stdout",
     "output_type": "stream",
     "text": [
      " Proceed Further\n"
     ]
    }
   ],
   "source": [
    "#Converting to Array\n",
    "# Collecting X and Y\n",
    "X = data['Head Size(cm^3)'].values\n",
    "Y = data['Brain Weight(grams)'].values\n",
    "# sanity check \n",
    "if X.shape == Y.shape:\n",
    "    print(\" Proceed Further\")\n",
    "else:\n",
    "    print(\" Shape doesnot match\")"
   ]
  },
  {
   "cell_type": "code",
   "execution_count": 12,
   "metadata": {},
   "outputs": [
    {
     "data": {
      "text/plain": [
       "3633.9915611814345"
      ]
     },
     "execution_count": 12,
     "metadata": {},
     "output_type": "execute_result"
    }
   ],
   "source": [
    "X.mean()"
   ]
  },
  {
   "cell_type": "code",
   "execution_count": 15,
   "metadata": {},
   "outputs": [
    {
     "data": {
      "text/plain": [
       "(3633.9915611814345, 1282.873417721519)"
      ]
     },
     "execution_count": 15,
     "metadata": {},
     "output_type": "execute_result"
    }
   ],
   "source": [
    "# Mean X and Y\n",
    "mean_x = np.mean(X)\n",
    "mean_y = np.mean(Y)\n",
    "mean_x, mean_y"
   ]
  },
  {
   "cell_type": "code",
   "execution_count": 22,
   "metadata": {
    "id": "neWNsGvSwuTo"
   },
   "outputs": [
    {
     "data": {
      "text/plain": [
       "237"
      ]
     },
     "execution_count": 22,
     "metadata": {},
     "output_type": "execute_result"
    }
   ],
   "source": [
    "# Total number of values (length)\n",
    "n = len(X)\n",
    "n"
   ]
  },
  {
   "cell_type": "markdown",
   "metadata": {
    "id": "pGBdvHkuwyth"
   },
   "source": [
    "### Calulate $\\theta_0$ and $\\theta_1$ :\n",
    "using the given formula:\n",
    "\\begin{align}\n",
    "        \\mathbf{\\theta _1} = \\frac{\\sum_{i=0}^n(x_i-\\bar{x})(y_i-\\bar{y}) }{\\sum_{i=1}^n(x_i-\\bar{x})}.\n",
    "    \\end{align}\n",
    "$\\theta_o$ is an intercept and calculated as:\n",
    "\\begin{align}\n",
    "        \\mathbf{\\theta_o} = \\bar{y} - \\theta_1 \\bar{x}\n",
    "    \\end{align}\n"
   ]
  },
  {
   "cell_type": "code",
   "execution_count": null,
   "metadata": {
    "id": "bnj2dEa5wx-N"
   },
   "outputs": [],
   "source": [
    "#implement above formula in python from scratch\n",
    "numer = 0\n",
    "denom = 0\n",
    "for i in range(n):\n",
    "    numer += (X[i] - mean_x) * (Y[i] - mean_y)\n",
    "    denom += (X[i] - mean_x) ** 2\n",
    "theta_1 = numer/denom\n",
    "theta_0 = mean_y - (theta1 * mean_x)"
   ]
  },
  {
   "cell_type": "code",
   "execution_count": null,
   "metadata": {
    "colab": {
     "base_uri": "https://localhost:8080/"
    },
    "id": "iCMKW2-xxZ6u",
    "outputId": "81863639-d81d-4c24-a665-2b1b5b6a2d29"
   },
   "outputs": [],
   "source": [
    "# Print coefficients and y_intercept (AKA m & c or theta1 % thata0)"
   ]
  },
  {
   "cell_type": "markdown",
   "metadata": {
    "id": "e-sL9JXmxmCo"
   },
   "source": [
    "### Lets visualize our model:"
   ]
  },
  {
   "cell_type": "code",
   "execution_count": null,
   "metadata": {
    "colab": {
     "base_uri": "https://localhost:8080/",
     "height": 606
    },
    "id": "4_o76aj7xeHd",
    "outputId": "2853dfdf-43ae-4312-c58f-fefbf4ab0dfa"
   },
   "outputs": [],
   "source": [
    "# Plotting Values and Regression Line\n",
    "\n",
    "max_x = np.max(X) + 100\n",
    "min_x = np.min(X) - 100\n",
    "\n",
    "# Calculating line values x and y\n",
    "x = np.linspace(min_x, max_x, 1000)\n",
    "y = b0 + b1 * x\n",
    "\n",
    "# Ploting Line\n",
    "plt.plot(x, y, color='#58b970', label='Regression Line')\n",
    "# Ploting Scatter Points\n",
    "plt.scatter(X, Y, c='#ef5423', label='Scatter Plot')\n",
    "\n",
    "plt.xlabel('Head Size in cm3')\n",
    "plt.ylabel('Brain Weight in grams')\n",
    "plt.legend()\n",
    "plt.show()"
   ]
  },
  {
   "cell_type": "markdown",
   "metadata": {
    "id": "PcGOeNoNxyvQ"
   },
   "source": [
    "### Evaluate our Model:\n",
    "Lets see How Good is our model. As discussed in the lecture and Tutorial we will use Root Mean Squared Error and Coefficient of Determination( R2 )\n",
    "Mathematically:\n",
    "\\begin{align}\n",
    "        \\mathbf{RMSE}  = \\sqrt{\\sum_{i=1}^n (1/m (\\hat{y_i} - y_i)^2)}\n",
    "    \\end{align}\n",
    "\n",
    "\\begin{align}\n",
    "        \\mathbf{R^2}  = 1 - \\frac{SSR}{SST}\n",
    "    \\end{align}\n",
    "\n",
    "\\begin{align}\n",
    "         \\mathbf{SST} = \\sum_{i=1}^n (y_i - \\bar{y})^2\n",
    "    \\end{align}\n",
    "\\begin{align}\n",
    "         \\mathbf{SSR} = \\sum_{i=1}^n (y_i - \\hat{y_i})^2\n",
    "    \\end{align}"
   ]
  },
  {
   "cell_type": "code",
   "execution_count": null,
   "metadata": {
    "colab": {
     "base_uri": "https://localhost:8080/"
    },
    "id": "WlREDZvAxxfS",
    "outputId": "d3349c34-0750-4d5b-80ff-6ef5524c9e29"
   },
   "outputs": [],
   "source": [
    "# Calculate Root Mean Squares Error from scratch."
   ]
  },
  {
   "cell_type": "code",
   "execution_count": null,
   "metadata": {
    "colab": {
     "base_uri": "https://localhost:8080/"
    },
    "id": "yakf7b2nxjkN",
    "outputId": "69e6cd75-2c57-4138-8af5-97ce1d4f422b"
   },
   "outputs": [],
   "source": [
    "#Calculate the R2 square from scratch"
   ]
  },
  {
   "cell_type": "code",
   "execution_count": null,
   "metadata": {
    "id": "8LfLzLzgyQYV"
   },
   "outputs": [],
   "source": [
    "#Display the result"
   ]
  },
  {
   "cell_type": "markdown",
   "metadata": {
    "id": "WxumdDT0yY8e"
   },
   "source": [
    "# The sickit Learn Approach\n"
   ]
  },
  {
   "cell_type": "markdown",
   "metadata": {
    "id": "BtzxjOGGykYG"
   },
   "source": [
    "Building Machine Learning models are very easy using scikit-learn. Let's see how we can build this Simple Linear Regression Model using scikit-learn."
   ]
  },
  {
   "cell_type": "code",
   "execution_count": null,
   "metadata": {
    "colab": {
     "base_uri": "https://localhost:8080/"
    },
    "id": "48MYJ9ACyiRB",
    "outputId": "c6cc195c-8835-465d-9109-6cdb258cd590"
   },
   "outputs": [],
   "source": [
    "from sklearn.linear_model import LinearRegression\n",
    "from sklearn.metrics import mean_squared_error\n",
    "\n",
    "# We cannot use Rank 1 matrix in scikit learn. Use the reshape function to reshape the X."
   ]
  },
  {
   "cell_type": "markdown",
   "metadata": {
    "id": "tRU8oVVP0b4b"
   },
   "source": [
    "# Multiple Linear Regression\n",
    "#(Datasets for this task is <b>student.csv</b>)\n",
    "Multiple Linear Regression is a type of Linear Regression when the input has multiple features ((variables)).Similar to Simple Linear Regression, we have input variable(X) and output variable(Y). But the input variable has nn features. Therefore, we can represent this linear model as follows;\n",
    "\\begin{align}\n",
    "        \\mathbf{Y} = \\theta_o + \\theta_1x_1 + \\theta_2x_2 + .....+ \\theta_nx_n\n",
    "    \\end{align}\n",
    "Rewriting the equation:where $x_0 = 1$:\n",
    "\\begin{align}\n",
    "        \\mathbf{Y} = \\theta_ox_0 + \\theta_1x_1 + \\theta_2x_2 + .....+ \\theta_nx_n\n",
    "    \\end{align}\n",
    "(Lets remove $\\theta_0$ for easy calculation.)\n",
    "Convert the equation to matrix:\n",
    "\\begin{align}\n",
    "        \\mathbf{Y} = \\theta^T X\n",
    "    \\end{align}\n",
    "where:\n",
    "\\begin{align}\n",
    "        \\mathbf{\\theta} = [\\theta_o, \\theta_1, ...., \\theta_n]^T\n",
    "    \\end{align}\n",
    "\\begin{align}\n",
    "        \\mathbf{X} = [x_o, x_1, ...., x_n]^T\n",
    "    \\end{align}\n",
    "\n",
    "Our function can now be defined as:\n",
    "\\begin{align}\n",
    "        \\mathbf{h_\\theta(.)}  = \\theta^T x\n",
    "    \\end{align}\n",
    "And the cost function will be:\n",
    "\\begin{align}\n",
    "        \\mathbf{J(\\theta)}  = \\frac{1}{2n} \\sum_{i=1}^n(h_\\theta(x_i) - y_i)^2\n",
    "    \\end{align}"
   ]
  },
  {
   "cell_type": "markdown",
   "metadata": {
    "id": "u6vZk44g2LEJ"
   },
   "source": [
    "## Steps:\n",
    "(Datasets for this particular task is student.csv)\n",
    "*   Decision Task:\n",
    "    *   Predicti the score of writing based on  given datasets.\n",
    "    *   Approach Multiple Linear Regression with Gradient Descent.\n",
    "*   Error Function and Evaluation Metrics:\n",
    "    *  MSE.\n",
    "    *  R squared.\n",
    "*   Tasks to DO:\n",
    "    *   Read the dataset using pandas.\n",
    "    *   Display top 5 and bottom 5 rows of datasets.\n",
    "    *   Information of the datasets.\n",
    "    *   Identify Feature and Target varaible.\n",
    "    *   We are doing mathematical operations we need to convert our feature and target variable into arrays.\n",
    "\n",
    "\n",
    "\n"
   ]
  },
  {
   "cell_type": "code",
   "execution_count": null,
   "metadata": {},
   "outputs": [],
   "source": [
    "#import the dataset"
   ]
  },
  {
   "cell_type": "code",
   "execution_count": null,
   "metadata": {
    "id": "x88JRgTd3TtQ"
   },
   "outputs": [],
   "source": [
    "math = data['Math'].values\n",
    "read = data['Reading'].values\n",
    "write = data['Writing'].values"
   ]
  },
  {
   "cell_type": "markdown",
   "metadata": {
    "id": "t-x0_Py63OTS"
   },
   "source": [
    "Lets Visualize the data:"
   ]
  },
  {
   "cell_type": "code",
   "execution_count": null,
   "metadata": {
    "colab": {
     "base_uri": "https://localhost:8080/",
     "height": 751
    },
    "id": "jv3SJPuR3FDG",
    "outputId": "82e9afe6-372e-4fc1-c4cb-4d180ae53fa3"
   },
   "outputs": [],
   "source": [
    "from mpl_toolkits.mplot3d import Axes3D\n",
    "# Ploting the scores as scatter plot\n",
    "fig = plt.figure()\n",
    "ax = Axes3D(fig)\n",
    "ax.scatter(math, read, write, color='#ef1234')\n",
    "plt.show()"
   ]
  },
  {
   "cell_type": "markdown",
   "metadata": {
    "id": "gqqMWL-83dCQ"
   },
   "source": [
    "# Initialize the following values:\n",
    "(Remeber the rule for matrix multiplication)\n",
    "\n",
    "1.   $x_0$ to one Hint you can use np.ones methods of numpy\n",
    "2.   Initialize the values of B i.e we can start from 0\n",
    "3.   Initialize the learning rate to be 0.0001\n",
    "\n"
   ]
  },
  {
   "cell_type": "markdown",
   "metadata": {
    "id": "XSc_C6-43y8v"
   },
   "source": [
    "# Cost Function\n",
    "Calculate the cost fucntion:\n",
    "From Lecture We know:\n",
    "\\begin{align}\n",
    "        \\mathbf{J(\\theta)}  = \\frac{1}{2n} \\sum_{i=1}^n(h_\\theta(x_i) - y_i)^2\n",
    "    \\end{align}\n",
    "###Hints:\n",
    "def cost_fucntion(parameters):\n",
    "*   \"\"\"Parameters\"\"\"\n",
    "      *   Array of features and targets\n",
    "      *   Array of weights or theta\n",
    "*   Returns Cost value J\n",
    "\n"
   ]
  },
  {
   "cell_type": "code",
   "execution_count": null,
   "metadata": {},
   "outputs": [],
   "source": [
    "#calculate the cost function here"
   ]
  },
  {
   "cell_type": "markdown",
   "metadata": {
    "id": "mD8wr11E6C5D"
   },
   "source": [
    "#Gradient:\n",
    "Function to estimate: \n",
    "  *   $h_\\theta(x) = \\theta^T x$\n",
    "\n",
    "*   Loss function to minimize: \n",
    "      *   $(h_\\theta(x) - y)^2$\n",
    "*   Gradient: Decsent update:\n",
    "      *   $\\theta_(j+1)   = \\theta_j - LR(D_\\theta)$\n",
    "*   $D(\\theta) = 1/m * (\\theta^T * X)$\n"
   ]
  },
  {
   "cell_type": "code",
   "execution_count": null,
   "metadata": {},
   "outputs": [],
   "source": [
    "#implement your code here"
   ]
  },
  {
   "cell_type": "markdown",
   "metadata": {
    "id": "vAbMjP-TWmam"
   },
   "source": [
    "# SK LEARN\n",
    "Simple Implementation of Ridge and Lasso Regularization"
   ]
  },
  {
   "cell_type": "code",
   "execution_count": 21,
   "metadata": {},
   "outputs": [],
   "source": [
    "#implement your code here\n",
    "import pandas as pd\n",
    "import matplotlib.pyplot as plt\n",
    "import seaborn as sns\n",
    "import numpy as np\n",
    "from sklearn.model_selection import train_test_split\n",
    "from sklearn.linear_model import LinearRegression,LogisticRegression,Lasso, Ridge\n",
    "from sklearn.metrics import confusion_matrix\n",
    "#ROC&AUC"
   ]
  },
  {
   "cell_type": "code",
   "execution_count": 11,
   "metadata": {},
   "outputs": [],
   "source": [
    "#implementing simple linear regressin from sklearn.\n",
    "salarydata = pd.read_csv('Salary_Data.csv')"
   ]
  },
  {
   "cell_type": "code",
   "execution_count": 12,
   "metadata": {},
   "outputs": [
    {
     "data": {
      "text/html": [
       "<div>\n",
       "<style scoped>\n",
       "    .dataframe tbody tr th:only-of-type {\n",
       "        vertical-align: middle;\n",
       "    }\n",
       "\n",
       "    .dataframe tbody tr th {\n",
       "        vertical-align: top;\n",
       "    }\n",
       "\n",
       "    .dataframe thead th {\n",
       "        text-align: right;\n",
       "    }\n",
       "</style>\n",
       "<table border=\"1\" class=\"dataframe\">\n",
       "  <thead>\n",
       "    <tr style=\"text-align: right;\">\n",
       "      <th></th>\n",
       "      <th>YearsExperience</th>\n",
       "      <th>Salary</th>\n",
       "    </tr>\n",
       "  </thead>\n",
       "  <tbody>\n",
       "    <tr>\n",
       "      <th>0</th>\n",
       "      <td>1.1</td>\n",
       "      <td>39343.0</td>\n",
       "    </tr>\n",
       "    <tr>\n",
       "      <th>1</th>\n",
       "      <td>1.3</td>\n",
       "      <td>46205.0</td>\n",
       "    </tr>\n",
       "    <tr>\n",
       "      <th>2</th>\n",
       "      <td>1.5</td>\n",
       "      <td>37731.0</td>\n",
       "    </tr>\n",
       "    <tr>\n",
       "      <th>3</th>\n",
       "      <td>2.0</td>\n",
       "      <td>43525.0</td>\n",
       "    </tr>\n",
       "    <tr>\n",
       "      <th>4</th>\n",
       "      <td>2.2</td>\n",
       "      <td>39891.0</td>\n",
       "    </tr>\n",
       "  </tbody>\n",
       "</table>\n",
       "</div>"
      ],
      "text/plain": [
       "   YearsExperience   Salary\n",
       "0              1.1  39343.0\n",
       "1              1.3  46205.0\n",
       "2              1.5  37731.0\n",
       "3              2.0  43525.0\n",
       "4              2.2  39891.0"
      ]
     },
     "execution_count": 12,
     "metadata": {},
     "output_type": "execute_result"
    }
   ],
   "source": [
    "salarydata.head()"
   ]
  },
  {
   "cell_type": "code",
   "execution_count": 13,
   "metadata": {},
   "outputs": [
    {
     "data": {
      "text/html": [
       "<div>\n",
       "<style scoped>\n",
       "    .dataframe tbody tr th:only-of-type {\n",
       "        vertical-align: middle;\n",
       "    }\n",
       "\n",
       "    .dataframe tbody tr th {\n",
       "        vertical-align: top;\n",
       "    }\n",
       "\n",
       "    .dataframe thead th {\n",
       "        text-align: right;\n",
       "    }\n",
       "</style>\n",
       "<table border=\"1\" class=\"dataframe\">\n",
       "  <thead>\n",
       "    <tr style=\"text-align: right;\">\n",
       "      <th></th>\n",
       "      <th>YearsExperience</th>\n",
       "      <th>Salary</th>\n",
       "    </tr>\n",
       "  </thead>\n",
       "  <tbody>\n",
       "    <tr>\n",
       "      <th>25</th>\n",
       "      <td>9.0</td>\n",
       "      <td>105582.0</td>\n",
       "    </tr>\n",
       "    <tr>\n",
       "      <th>26</th>\n",
       "      <td>9.5</td>\n",
       "      <td>116969.0</td>\n",
       "    </tr>\n",
       "    <tr>\n",
       "      <th>27</th>\n",
       "      <td>9.6</td>\n",
       "      <td>112635.0</td>\n",
       "    </tr>\n",
       "    <tr>\n",
       "      <th>28</th>\n",
       "      <td>10.3</td>\n",
       "      <td>122391.0</td>\n",
       "    </tr>\n",
       "    <tr>\n",
       "      <th>29</th>\n",
       "      <td>10.5</td>\n",
       "      <td>121872.0</td>\n",
       "    </tr>\n",
       "  </tbody>\n",
       "</table>\n",
       "</div>"
      ],
      "text/plain": [
       "    YearsExperience    Salary\n",
       "25              9.0  105582.0\n",
       "26              9.5  116969.0\n",
       "27              9.6  112635.0\n",
       "28             10.3  122391.0\n",
       "29             10.5  121872.0"
      ]
     },
     "execution_count": 13,
     "metadata": {},
     "output_type": "execute_result"
    }
   ],
   "source": [
    "salarydata.tail()"
   ]
  },
  {
   "cell_type": "code",
   "execution_count": 14,
   "metadata": {},
   "outputs": [
    {
     "data": {
      "text/html": [
       "<div>\n",
       "<style scoped>\n",
       "    .dataframe tbody tr th:only-of-type {\n",
       "        vertical-align: middle;\n",
       "    }\n",
       "\n",
       "    .dataframe tbody tr th {\n",
       "        vertical-align: top;\n",
       "    }\n",
       "\n",
       "    .dataframe thead th {\n",
       "        text-align: right;\n",
       "    }\n",
       "</style>\n",
       "<table border=\"1\" class=\"dataframe\">\n",
       "  <thead>\n",
       "    <tr style=\"text-align: right;\">\n",
       "      <th></th>\n",
       "      <th>YearsExperience</th>\n",
       "      <th>Salary</th>\n",
       "    </tr>\n",
       "  </thead>\n",
       "  <tbody>\n",
       "    <tr>\n",
       "      <th>0</th>\n",
       "      <td>1.1</td>\n",
       "      <td>39343.0</td>\n",
       "    </tr>\n",
       "    <tr>\n",
       "      <th>15</th>\n",
       "      <td>4.9</td>\n",
       "      <td>67938.0</td>\n",
       "    </tr>\n",
       "    <tr>\n",
       "      <th>7</th>\n",
       "      <td>3.2</td>\n",
       "      <td>54445.0</td>\n",
       "    </tr>\n",
       "    <tr>\n",
       "      <th>14</th>\n",
       "      <td>4.5</td>\n",
       "      <td>61111.0</td>\n",
       "    </tr>\n",
       "    <tr>\n",
       "      <th>1</th>\n",
       "      <td>1.3</td>\n",
       "      <td>46205.0</td>\n",
       "    </tr>\n",
       "  </tbody>\n",
       "</table>\n",
       "</div>"
      ],
      "text/plain": [
       "    YearsExperience   Salary\n",
       "0               1.1  39343.0\n",
       "15              4.9  67938.0\n",
       "7               3.2  54445.0\n",
       "14              4.5  61111.0\n",
       "1               1.3  46205.0"
      ]
     },
     "execution_count": 14,
     "metadata": {},
     "output_type": "execute_result"
    }
   ],
   "source": [
    "salarydata.sample(5)"
   ]
  },
  {
   "cell_type": "code",
   "execution_count": 19,
   "metadata": {},
   "outputs": [
    {
     "data": {
      "text/plain": [
       "(30, 2)"
      ]
     },
     "execution_count": 19,
     "metadata": {},
     "output_type": "execute_result"
    }
   ],
   "source": [
    "salarydata.shape"
   ]
  },
  {
   "cell_type": "code",
   "execution_count": 15,
   "metadata": {},
   "outputs": [
    {
     "data": {
      "text/html": [
       "<div>\n",
       "<style scoped>\n",
       "    .dataframe tbody tr th:only-of-type {\n",
       "        vertical-align: middle;\n",
       "    }\n",
       "\n",
       "    .dataframe tbody tr th {\n",
       "        vertical-align: top;\n",
       "    }\n",
       "\n",
       "    .dataframe thead th {\n",
       "        text-align: right;\n",
       "    }\n",
       "</style>\n",
       "<table border=\"1\" class=\"dataframe\">\n",
       "  <thead>\n",
       "    <tr style=\"text-align: right;\">\n",
       "      <th></th>\n",
       "      <th>YearsExperience</th>\n",
       "      <th>Salary</th>\n",
       "    </tr>\n",
       "  </thead>\n",
       "  <tbody>\n",
       "    <tr>\n",
       "      <th>count</th>\n",
       "      <td>30.000000</td>\n",
       "      <td>30.000000</td>\n",
       "    </tr>\n",
       "    <tr>\n",
       "      <th>mean</th>\n",
       "      <td>5.313333</td>\n",
       "      <td>76003.000000</td>\n",
       "    </tr>\n",
       "    <tr>\n",
       "      <th>std</th>\n",
       "      <td>2.837888</td>\n",
       "      <td>27414.429785</td>\n",
       "    </tr>\n",
       "    <tr>\n",
       "      <th>min</th>\n",
       "      <td>1.100000</td>\n",
       "      <td>37731.000000</td>\n",
       "    </tr>\n",
       "    <tr>\n",
       "      <th>25%</th>\n",
       "      <td>3.200000</td>\n",
       "      <td>56720.750000</td>\n",
       "    </tr>\n",
       "    <tr>\n",
       "      <th>50%</th>\n",
       "      <td>4.700000</td>\n",
       "      <td>65237.000000</td>\n",
       "    </tr>\n",
       "    <tr>\n",
       "      <th>75%</th>\n",
       "      <td>7.700000</td>\n",
       "      <td>100544.750000</td>\n",
       "    </tr>\n",
       "    <tr>\n",
       "      <th>max</th>\n",
       "      <td>10.500000</td>\n",
       "      <td>122391.000000</td>\n",
       "    </tr>\n",
       "  </tbody>\n",
       "</table>\n",
       "</div>"
      ],
      "text/plain": [
       "       YearsExperience         Salary\n",
       "count        30.000000      30.000000\n",
       "mean          5.313333   76003.000000\n",
       "std           2.837888   27414.429785\n",
       "min           1.100000   37731.000000\n",
       "25%           3.200000   56720.750000\n",
       "50%           4.700000   65237.000000\n",
       "75%           7.700000  100544.750000\n",
       "max          10.500000  122391.000000"
      ]
     },
     "execution_count": 15,
     "metadata": {},
     "output_type": "execute_result"
    }
   ],
   "source": [
    "salarydata.describe()"
   ]
  },
  {
   "cell_type": "code",
   "execution_count": 17,
   "metadata": {},
   "outputs": [],
   "source": [
    "X = salarydata['YearsExperience'].values\n",
    "y = salarydata['Salary'].values"
   ]
  },
  {
   "cell_type": "code",
   "execution_count": 23,
   "metadata": {},
   "outputs": [],
   "source": [
    "Xtrain, Xtest, ytrain, ytest = train_test_split(X, y, test_size=0.1, random_state=2)"
   ]
  },
  {
   "cell_type": "code",
   "execution_count": 31,
   "metadata": {},
   "outputs": [],
   "source": [
    "Xtrain = Xtrain.reshape(-1,1)\n",
    "Xtest = Xtest.reshape(-1,1)"
   ]
  },
  {
   "cell_type": "code",
   "execution_count": 37,
   "metadata": {},
   "outputs": [],
   "source": [
    "lr = LinearRegression()\n",
    "lr.fit(Xtrain, ytrain)\n",
    "pred = lr.predict(Xtest)"
   ]
  },
  {
   "cell_type": "code",
   "execution_count": 39,
   "metadata": {},
   "outputs": [
    {
     "data": {
      "text/plain": [
       "49740843.88108194"
      ]
     },
     "execution_count": 39,
     "metadata": {},
     "output_type": "execute_result"
    }
   ],
   "source": [
    "from sklearn.metrics import mean_squared_error\n",
    "mse = mean_squared_error(ytest, pred)\n",
    "mse"
   ]
  },
  {
   "cell_type": "code",
   "execution_count": null,
   "metadata": {},
   "outputs": [],
   "source": []
  }
 ],
 "metadata": {
  "colab": {
   "collapsed_sections": [],
   "name": "Wek_2_Workshops.ipynb",
   "provenance": []
  },
  "kernelspec": {
   "display_name": "Python 3 (ipykernel)",
   "language": "python",
   "name": "python3"
  },
  "language_info": {
   "codemirror_mode": {
    "name": "ipython",
    "version": 3
   },
   "file_extension": ".py",
   "mimetype": "text/x-python",
   "name": "python",
   "nbconvert_exporter": "python",
   "pygments_lexer": "ipython3",
   "version": "3.9.7"
  }
 },
 "nbformat": 4,
 "nbformat_minor": 1
}
