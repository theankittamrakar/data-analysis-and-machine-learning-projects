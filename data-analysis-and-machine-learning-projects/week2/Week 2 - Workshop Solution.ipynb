{
 "cells": [
  {
   "cell_type": "code",
   "execution_count": 1,
   "metadata": {
    "colab": {
     "base_uri": "https://localhost:8080/"
    },
    "id": "pomN_oFBnff7",
    "outputId": "f30a68df-78e1-4c42-97a4-eb131d96e281"
   },
   "outputs": [],
   "source": [
    "# from google.colab import drive\n",
    "# drive.mount('/content/drive')"
   ]
  },
  {
   "cell_type": "markdown",
   "metadata": {
    "id": "0oSS1yEaeNIL"
   },
   "source": [
    "# Instructions and Requirements:\n",
    "## Instructions:\n",
    "*   This week students will have assignments,as describe in the presentations.\n",
    "*   Goal is to make students friendly with sklearn, so that they can perform there tasks.\n",
    "*   OLS and Gradient descent has been done with scratch to show the students, also check the python coding skills of the student to design future tasks accordingly.\n",
    "*   Please find the datasets in the google drive folders\n",
    "## Requirements:\n",
    "    *   Notebook Environment(Juopyter or Google Colab)\n",
    "    *   Students are expected to have following datasets:\n",
    "    *   brainhead.csv\n",
    "    *   student.csv\n",
    "    *   insurance.csv\n",
    "    *   salary.csv\n",
    "    *   bank.csv\n",
    "\n"
   ]
  },
  {
   "cell_type": "markdown",
   "metadata": {
    "id": "Kwyy89XfkSa2"
   },
   "source": [
    "# Week2 - Outline\n",
    "*   Gentle Introduction to Regression task Linear Regression\n",
    "    *   Cost/Objective Function\n",
    "    *   Analitical vs Gradient Descent Approach\n",
    "    *   Regularization methods \n",
    "    *   List item\n",
    "*   Gentle Introduction to Classification task Logistic Regression\n",
    "    *   Cost/Objective Function\n",
    "    *   Implementation with SKlearn\n",
    "\n",
    "*   Requirements\n",
    "    *   Notebook Environment(Juopyter or Google Colab)\n",
    "    *   Students are expected to have following datasets:\n",
    "    *   brainhead.csv\n",
    "    *   student.csv\n",
    "    *   insurance.csv\n",
    "    *   salary.csv\n",
    "    *   bank.csv\n",
    "\n",
    "\n",
    "\n",
    "\n",
    "\n",
    "\n",
    "\n",
    "\n",
    "\n",
    "\n"
   ]
  },
  {
   "cell_type": "markdown",
   "metadata": {
    "id": "H5bTJM5kmZJw"
   },
   "source": [
    "# Regression\n",
    "The task of the Regression Algorithm is to find the maping function to map the input variable(x) to teh continious output variable(y).\n",
    "Regression analysis estimates the realtionship between a dependent variables and independent variables.\n",
    "In the class we talked about two different approach\n",
    "\n",
    "\n",
    "1.   Analytical Approach i.e Ordinary Least Square Methods\n",
    "2.   Machine Learning Approach i.e Using Gradient Descent\n",
    "In this exercise you are expected to implement both the methods from scratch.\n"
   ]
  },
  {
   "cell_type": "markdown",
   "metadata": {
    "id": "fZ0ybrtumluG"
   },
   "source": [
    "# Ordinary Least Square Implementation from scratch\n",
    "As per the Lectures, we can define the linear relationships between two variables as follows:\n",
    "\\begin{align}\n",
    "        \\mathbf{y} = \\theta _o + \\theta_1x\n",
    "    \\end{align}\n",
    "\n",
    "Here:\n",
    "$\\theta _1$ is called scale factor or coefficient/slope and can be calculate as:\n",
    "\\begin{align}\n",
    "        \\mathbf{\\theta _1} = \\frac{\\sum_{i=0}^n(x_i-\\bar(x)))(y_i-\\bar(y)) }{\\sum_{i=1}^n(x_i-\\bar(x))^2}.\n",
    "    \\end{align}\n",
    "$\\theta_o$ is an intercept and calculated as:\n",
    "\\begin{align}\n",
    "        \\mathbf{\\theta_o} = \\bar(y) - \\theta_1 \\bar(x)\n",
    "    \\end{align}\n",
    "Implementation:\n",
    "Start with Necessary Imports:"
   ]
  },
  {
   "cell_type": "code",
   "execution_count": 3,
   "metadata": {
    "id": "-fUlDZWZngbB"
   },
   "outputs": [],
   "source": [
    "import numpy as np\n",
    "import pandas as pd\n",
    "import matplotlib.pyplot as plt\n",
    "plt.rcParams['figure.figsize'] = (20.0, 10.0)"
   ]
  },
  {
   "cell_type": "markdown",
   "metadata": {
    "id": "f5uyA09wpZco"
   },
   "source": [
    "## Step-1\n",
    "(Datasets for this particular task is headbrain.csv)\n",
    "\n",
    "\n",
    "*   Decision Task:\n",
    "    *   Predicti the weight of brain from given datasets.\n",
    "    *   Approach Simple Linear Regression with OLS.\n",
    "*   Error Function and Evaluation Metrics:\n",
    "    *   MSE.\n",
    "    *  R squared.\n",
    "*   Tasks to DO:\n",
    "    *   Read the dataset using pandas.\n",
    "    *   Display top 5 and bottom 5 rows of datasets.\n",
    "    *   Information of the datasets\n",
    "    *   We are doing mathematical operations we need to convert our feature and target variable into arrays.\n",
    "\n",
    "\n",
    "\n"
   ]
  },
  {
   "cell_type": "code",
   "execution_count": 4,
   "metadata": {
    "id": "dQTRbhVBpV4x"
   },
   "outputs": [],
   "source": [
    "# path_task1 = \"/content/drive/MyDrive/Workshops(5CS037)/Workshop-6/Week-2/Datasets/headbrain.csv\"\n",
    "path_task1 = \"./data/headbrain.csv\""
   ]
  },
  {
   "cell_type": "code",
   "execution_count": 5,
   "metadata": {
    "colab": {
     "base_uri": "https://localhost:8080/",
     "height": 224
    },
    "id": "7-QTs-IVpzu_",
    "outputId": "6770f268-0540-4535-d0ab-88ee15f8c846"
   },
   "outputs": [
    {
     "name": "stdout",
     "output_type": "stream",
     "text": [
      "(237, 4)\n"
     ]
    },
    {
     "data": {
      "text/html": [
       "<div>\n",
       "<style scoped>\n",
       "    .dataframe tbody tr th:only-of-type {\n",
       "        vertical-align: middle;\n",
       "    }\n",
       "\n",
       "    .dataframe tbody tr th {\n",
       "        vertical-align: top;\n",
       "    }\n",
       "\n",
       "    .dataframe thead th {\n",
       "        text-align: right;\n",
       "    }\n",
       "</style>\n",
       "<table border=\"1\" class=\"dataframe\">\n",
       "  <thead>\n",
       "    <tr style=\"text-align: right;\">\n",
       "      <th></th>\n",
       "      <th>Gender</th>\n",
       "      <th>Age Range</th>\n",
       "      <th>Head Size(cm^3)</th>\n",
       "      <th>Brain Weight(grams)</th>\n",
       "    </tr>\n",
       "  </thead>\n",
       "  <tbody>\n",
       "    <tr>\n",
       "      <th>0</th>\n",
       "      <td>1</td>\n",
       "      <td>1</td>\n",
       "      <td>4512</td>\n",
       "      <td>1530</td>\n",
       "    </tr>\n",
       "    <tr>\n",
       "      <th>1</th>\n",
       "      <td>1</td>\n",
       "      <td>1</td>\n",
       "      <td>3738</td>\n",
       "      <td>1297</td>\n",
       "    </tr>\n",
       "    <tr>\n",
       "      <th>2</th>\n",
       "      <td>1</td>\n",
       "      <td>1</td>\n",
       "      <td>4261</td>\n",
       "      <td>1335</td>\n",
       "    </tr>\n",
       "    <tr>\n",
       "      <th>3</th>\n",
       "      <td>1</td>\n",
       "      <td>1</td>\n",
       "      <td>3777</td>\n",
       "      <td>1282</td>\n",
       "    </tr>\n",
       "    <tr>\n",
       "      <th>4</th>\n",
       "      <td>1</td>\n",
       "      <td>1</td>\n",
       "      <td>4177</td>\n",
       "      <td>1590</td>\n",
       "    </tr>\n",
       "  </tbody>\n",
       "</table>\n",
       "</div>"
      ],
      "text/plain": [
       "   Gender  Age Range  Head Size(cm^3)  Brain Weight(grams)\n",
       "0       1          1             4512                 1530\n",
       "1       1          1             3738                 1297\n",
       "2       1          1             4261                 1335\n",
       "3       1          1             3777                 1282\n",
       "4       1          1             4177                 1590"
      ]
     },
     "execution_count": 5,
     "metadata": {},
     "output_type": "execute_result"
    }
   ],
   "source": [
    "data = pd.read_csv(path_task1)\n",
    "print(data.shape)\n",
    "data.head()"
   ]
  },
  {
   "cell_type": "markdown",
   "metadata": {
    "id": "66MLG8kZwcsZ"
   },
   "source": [
    "### Find the mean\n",
    "To find the values of $\\theta_o $ and $\\theta_1$ we first need to calculate the mean of X and Y"
   ]
  },
  {
   "cell_type": "code",
   "execution_count": 6,
   "metadata": {
    "scrolled": true
   },
   "outputs": [
    {
     "data": {
      "text/plain": [
       "0      4512\n",
       "1      3738\n",
       "2      4261\n",
       "3      3777\n",
       "4      4177\n",
       "       ... \n",
       "232    3214\n",
       "233    3394\n",
       "234    3233\n",
       "235    3352\n",
       "236    3391\n",
       "Name: Head Size(cm^3), Length: 237, dtype: int64"
      ]
     },
     "execution_count": 6,
     "metadata": {},
     "output_type": "execute_result"
    }
   ],
   "source": [
    "X = data['Head Size(cm^3)']\n",
    "X"
   ]
  },
  {
   "cell_type": "code",
   "execution_count": 7,
   "metadata": {},
   "outputs": [
    {
     "data": {
      "text/plain": [
       "pandas.core.series.Series"
      ]
     },
     "execution_count": 7,
     "metadata": {},
     "output_type": "execute_result"
    }
   ],
   "source": [
    "type(X)"
   ]
  },
  {
   "cell_type": "code",
   "execution_count": 8,
   "metadata": {
    "scrolled": true
   },
   "outputs": [
    {
     "data": {
      "text/plain": [
       "array([4512, 3738, 4261, 3777, 4177, 3585, 3785, 3559, 3613, 3982, 3443,\n",
       "       3993, 3640, 4208, 3832, 3876, 3497, 3466, 3095, 4424, 3878, 4046,\n",
       "       3804, 3710, 4747, 4423, 4036, 4022, 3454, 4175, 3787, 3796, 4103,\n",
       "       4161, 4158, 3814, 3527, 3748, 3334, 3492, 3962, 3505, 4315, 3804,\n",
       "       3863, 4034, 4308, 3165, 3641, 3644, 3891, 3793, 4270, 4063, 4012,\n",
       "       3458, 3890, 4166, 3935, 3669, 3866, 3393, 4442, 4253, 3727, 3329,\n",
       "       3415, 3372, 4430, 4381, 4008, 3858, 4121, 4057, 3824, 3394, 3558,\n",
       "       3362, 3930, 3835, 3830, 3856, 3249, 3577, 3933, 3850, 3309, 3406,\n",
       "       3506, 3907, 4160, 3318, 3662, 3899, 3700, 3779, 3473, 3490, 3654,\n",
       "       3478, 3495, 3834, 3876, 3661, 3618, 3648, 4032, 3399, 3916, 4430,\n",
       "       3695, 3524, 3571, 3594, 3383, 3499, 3589, 3900, 4114, 3937, 3399,\n",
       "       4200, 4488, 3614, 4051, 3782, 3391, 3124, 4053, 3582, 3666, 3532,\n",
       "       4046, 3667, 2857, 3436, 3791, 3302, 3104, 3171, 3572, 3530, 3175,\n",
       "       3438, 3903, 3899, 3401, 3267, 3451, 3090, 3413, 3323, 3680, 3439,\n",
       "       3853, 3156, 3279, 3707, 4006, 3269, 3071, 3779, 3548, 3292, 3497,\n",
       "       3082, 3248, 3358, 3803, 3566, 3145, 3503, 3571, 3724, 3615, 3203,\n",
       "       3609, 3561, 3979, 3533, 3689, 3158, 4005, 3181, 3479, 3642, 3632,\n",
       "       3069, 3394, 3703, 3165, 3354, 3000, 3687, 3556, 2773, 3058, 3344,\n",
       "       3493, 3297, 3360, 3228, 3277, 3851, 3067, 3692, 3402, 3995, 3318,\n",
       "       2720, 2937, 3580, 2939, 2989, 3586, 3156, 3246, 3170, 3268, 3389,\n",
       "       3381, 2864, 3740, 3479, 3647, 3716, 3284, 4204, 3735, 3218, 3685,\n",
       "       3704, 3214, 3394, 3233, 3352, 3391], dtype=int64)"
      ]
     },
     "execution_count": 8,
     "metadata": {},
     "output_type": "execute_result"
    }
   ],
   "source": [
    "X = data['Head Size(cm^3)'].values\n",
    "X"
   ]
  },
  {
   "cell_type": "code",
   "execution_count": 9,
   "metadata": {},
   "outputs": [
    {
     "data": {
      "text/plain": [
       "numpy.ndarray"
      ]
     },
     "execution_count": 9,
     "metadata": {},
     "output_type": "execute_result"
    }
   ],
   "source": [
    "type(X)"
   ]
  },
  {
   "cell_type": "code",
   "execution_count": 13,
   "metadata": {},
   "outputs": [
    {
     "name": "stdout",
     "output_type": "stream",
     "text": [
      " Proceed Further\n"
     ]
    }
   ],
   "source": [
    "#Converting to Array\n",
    "# Collecting X and Y\n",
    "X = data['Head Size(cm^3)'].values\n",
    "Y = data['Brain Weight(grams)'].values\n",
    "# sanity check \n",
    "if X.shape == Y.shape:\n",
    "    print(\" Proceed Further\")\n",
    "else:\n",
    "    print(\" Shape doesnot match\")"
   ]
  },
  {
   "cell_type": "code",
   "execution_count": 10,
   "metadata": {},
   "outputs": [
    {
     "data": {
      "text/plain": [
       "3633.9915611814345"
      ]
     },
     "execution_count": 10,
     "metadata": {},
     "output_type": "execute_result"
    }
   ],
   "source": [
    "X.mean()"
   ]
  },
  {
   "cell_type": "code",
   "execution_count": 14,
   "metadata": {
    "id": "McuxVvZmvu9W"
   },
   "outputs": [],
   "source": [
    "# Mean X and Y\n",
    "mean_x = np.mean(X)\n",
    "mean_y = np.mean(Y)"
   ]
  },
  {
   "cell_type": "code",
   "execution_count": 15,
   "metadata": {
    "id": "neWNsGvSwuTo"
   },
   "outputs": [
    {
     "data": {
      "text/plain": [
       "(3633.9915611814345, 1282.873417721519)"
      ]
     },
     "execution_count": 15,
     "metadata": {},
     "output_type": "execute_result"
    }
   ],
   "source": [
    "mean_x, mean_y"
   ]
  },
  {
   "cell_type": "markdown",
   "metadata": {
    "id": "pGBdvHkuwyth"
   },
   "source": [
    "### Calulate $\\theta_0$ and $\\theta_1$ :\n",
    "using the given formula:\n",
    "\\begin{align}\n",
    "        \\mathbf{\\theta _1} = \\frac{\\sum_{i=0}^n(x_i-\\bar{x})(y_i-\\bar{y}) }{\\sum_{i=1}^n(x_i-\\bar{x})^2}.\n",
    "    \\end{align}\n",
    "$\\theta_o$ is an intercept and calculated as:\n",
    "\\begin{align}\n",
    "        \\mathbf{\\theta_o} = \\bar{y} - \\theta_1 \\bar{x}\n",
    "    \\end{align}\n"
   ]
  },
  {
   "cell_type": "code",
   "execution_count": 16,
   "metadata": {},
   "outputs": [
    {
     "data": {
      "text/plain": [
       "[0,\n",
       " 1,\n",
       " 2,\n",
       " 3,\n",
       " 4,\n",
       " 5,\n",
       " 6,\n",
       " 7,\n",
       " 8,\n",
       " 9,\n",
       " 10,\n",
       " 11,\n",
       " 12,\n",
       " 13,\n",
       " 14,\n",
       " 15,\n",
       " 16,\n",
       " 17,\n",
       " 18,\n",
       " 19,\n",
       " 20,\n",
       " 21,\n",
       " 22,\n",
       " 23,\n",
       " 24,\n",
       " 25,\n",
       " 26,\n",
       " 27,\n",
       " 28,\n",
       " 29,\n",
       " 30,\n",
       " 31,\n",
       " 32,\n",
       " 33,\n",
       " 34,\n",
       " 35,\n",
       " 36,\n",
       " 37,\n",
       " 38,\n",
       " 39,\n",
       " 40,\n",
       " 41,\n",
       " 42,\n",
       " 43,\n",
       " 44,\n",
       " 45,\n",
       " 46,\n",
       " 47,\n",
       " 48,\n",
       " 49,\n",
       " 50,\n",
       " 51,\n",
       " 52,\n",
       " 53,\n",
       " 54,\n",
       " 55,\n",
       " 56,\n",
       " 57,\n",
       " 58,\n",
       " 59,\n",
       " 60,\n",
       " 61,\n",
       " 62,\n",
       " 63,\n",
       " 64,\n",
       " 65,\n",
       " 66,\n",
       " 67,\n",
       " 68,\n",
       " 69,\n",
       " 70,\n",
       " 71,\n",
       " 72,\n",
       " 73,\n",
       " 74,\n",
       " 75,\n",
       " 76,\n",
       " 77,\n",
       " 78,\n",
       " 79,\n",
       " 80,\n",
       " 81,\n",
       " 82,\n",
       " 83,\n",
       " 84,\n",
       " 85,\n",
       " 86,\n",
       " 87,\n",
       " 88,\n",
       " 89,\n",
       " 90,\n",
       " 91,\n",
       " 92,\n",
       " 93,\n",
       " 94,\n",
       " 95,\n",
       " 96,\n",
       " 97,\n",
       " 98,\n",
       " 99,\n",
       " 100,\n",
       " 101,\n",
       " 102,\n",
       " 103,\n",
       " 104,\n",
       " 105,\n",
       " 106,\n",
       " 107,\n",
       " 108,\n",
       " 109,\n",
       " 110,\n",
       " 111,\n",
       " 112,\n",
       " 113,\n",
       " 114,\n",
       " 115,\n",
       " 116,\n",
       " 117,\n",
       " 118,\n",
       " 119,\n",
       " 120,\n",
       " 121,\n",
       " 122,\n",
       " 123,\n",
       " 124,\n",
       " 125,\n",
       " 126,\n",
       " 127,\n",
       " 128,\n",
       " 129,\n",
       " 130,\n",
       " 131,\n",
       " 132,\n",
       " 133,\n",
       " 134,\n",
       " 135,\n",
       " 136,\n",
       " 137,\n",
       " 138,\n",
       " 139,\n",
       " 140,\n",
       " 141,\n",
       " 142,\n",
       " 143,\n",
       " 144,\n",
       " 145,\n",
       " 146,\n",
       " 147,\n",
       " 148,\n",
       " 149,\n",
       " 150,\n",
       " 151,\n",
       " 152,\n",
       " 153,\n",
       " 154,\n",
       " 155,\n",
       " 156,\n",
       " 157,\n",
       " 158,\n",
       " 159,\n",
       " 160,\n",
       " 161,\n",
       " 162,\n",
       " 163,\n",
       " 164,\n",
       " 165,\n",
       " 166,\n",
       " 167,\n",
       " 168,\n",
       " 169,\n",
       " 170,\n",
       " 171,\n",
       " 172,\n",
       " 173,\n",
       " 174,\n",
       " 175,\n",
       " 176,\n",
       " 177,\n",
       " 178,\n",
       " 179,\n",
       " 180,\n",
       " 181,\n",
       " 182,\n",
       " 183,\n",
       " 184,\n",
       " 185,\n",
       " 186,\n",
       " 187,\n",
       " 188,\n",
       " 189,\n",
       " 190,\n",
       " 191,\n",
       " 192,\n",
       " 193,\n",
       " 194,\n",
       " 195,\n",
       " 196,\n",
       " 197,\n",
       " 198,\n",
       " 199,\n",
       " 200,\n",
       " 201,\n",
       " 202,\n",
       " 203,\n",
       " 204,\n",
       " 205,\n",
       " 206,\n",
       " 207,\n",
       " 208,\n",
       " 209,\n",
       " 210,\n",
       " 211,\n",
       " 212,\n",
       " 213,\n",
       " 214,\n",
       " 215,\n",
       " 216,\n",
       " 217,\n",
       " 218,\n",
       " 219,\n",
       " 220,\n",
       " 221,\n",
       " 222,\n",
       " 223,\n",
       " 224,\n",
       " 225,\n",
       " 226,\n",
       " 227,\n",
       " 228,\n",
       " 229,\n",
       " 230,\n",
       " 231,\n",
       " 232,\n",
       " 233,\n",
       " 234,\n",
       " 235,\n",
       " 236]"
      ]
     },
     "execution_count": 16,
     "metadata": {},
     "output_type": "execute_result"
    }
   ],
   "source": [
    "list(range(n))"
   ]
  },
  {
   "cell_type": "code",
   "execution_count": 17,
   "metadata": {
    "id": "bnj2dEa5wx-N"
   },
   "outputs": [],
   "source": [
    "# Total number of values\n",
    "n = len(X)\n",
    "numer = 0\n",
    "denom = 0\n",
    "for i in range(n):\n",
    "    numer += (X[i] - mean_x) * (Y[i] - mean_y)\n",
    "    denom += (X[i] - mean_x) ** 2\n",
    "theta_1 = numer / denom\n",
    "theta_0 = mean_y - (theta_1 * mean_x)\n"
   ]
  },
  {
   "cell_type": "code",
   "execution_count": 18,
   "metadata": {
    "colab": {
     "base_uri": "https://localhost:8080/"
    },
    "id": "iCMKW2-xxZ6u",
    "outputId": "81863639-d81d-4c24-a665-2b1b5b6a2d29"
   },
   "outputs": [
    {
     "name": "stdout",
     "output_type": "stream",
     "text": [
      "0.26342933948939945 325.57342104944223\n"
     ]
    }
   ],
   "source": [
    "# Print coefficients\n",
    "print(theta_1, theta_0)\n"
   ]
  },
  {
   "cell_type": "markdown",
   "metadata": {
    "id": "e-sL9JXmxmCo"
   },
   "source": [
    "### Lets visualize our model:"
   ]
  },
  {
   "cell_type": "code",
   "execution_count": 19,
   "metadata": {
    "colab": {
     "base_uri": "https://localhost:8080/",
     "height": 606
    },
    "id": "4_o76aj7xeHd",
    "outputId": "2853dfdf-43ae-4312-c58f-fefbf4ab0dfa"
   },
   "outputs": [
    {
     "data": {
      "image/png": "[encoded data removed]",
      "text/plain": [
       "<Figure size 1440x720 with 1 Axes>"
      ]
     },
     "metadata": {
      "needs_background": "light"
     },
     "output_type": "display_data"
    }
   ],
   "source": [
    "# Plotting Values and Regression Line\n",
    "\n",
    "max_x = np.max(X) + 100\n",
    "min_x = np.min(X) - 100\n",
    "\n",
    "# Calculating line values x and y\n",
    "x = np.linspace(min_x, max_x, 1000)\n",
    "y = theta_0 + theta_1 * x\n",
    "\n",
    "# Ploting Line\n",
    "plt.plot(x, y, color='#58b970', label='Regression Line')\n",
    "# Ploting Scatter Points\n",
    "plt.scatter(X, Y, c='#ef5423', label='Scatter Plot')\n",
    "\n",
    "plt.xlabel('Head Size in cm3')\n",
    "plt.ylabel('Brain Weight in grams')\n",
    "plt.legend()\n",
    "plt.show()"
   ]
  },
  {
   "cell_type": "markdown",
   "metadata": {
    "id": "PcGOeNoNxyvQ"
   },
   "source": [
    "### Evaluate our Model:\n",
    "Lets see How Good is our model. As discussed in the lecture and Tutorial we will use Root Mean Squared Error and Coefficient of Determination( R2 )\n",
    "Mathematically:\n",
    "\\begin{align}\n",
    "        \\mathbf{RMSE}  = \\sqrt{\\sum_{i=1}^n (1/m (\\hat{y_i} - y_i)^2)}\n",
    "    \\end{align}\n",
    "\n",
    "\\begin{align}\n",
    "        \\mathbf{R^2}  = 1 - \\frac{SSR}{SST}\n",
    "    \\end{align}\n",
    "\n",
    "\\begin{align}\n",
    "         \\mathbf{SST} = \\sum_{i=1}^n (y_i - \\bar{y})^2\n",
    "    \\end{align}\n",
    "\\begin{align}\n",
    "         \\mathbf{SSR} = \\sum_{i=1}^n (y_i - \\hat{y_i})^2\n",
    "    \\end{align}"
   ]
  },
  {
   "cell_type": "code",
   "execution_count": 12,
   "metadata": {
    "colab": {
     "base_uri": "https://localhost:8080/"
    },
    "id": "WlREDZvAxxfS",
    "outputId": "d3349c34-0750-4d5b-80ff-6ef5524c9e29"
   },
   "outputs": [
    {
     "name": "stdout",
     "output_type": "stream",
     "text": [
      "72.1206213783709\n"
     ]
    }
   ],
   "source": [
    "# Calculating Root Mean Squares Error\n",
    "rmse = 0\n",
    "for i in range(n):\n",
    "    y_pred = b0 + b1 * X[i]\n",
    "    rmse += (Y[i] - y_pred) ** 2\n",
    "rmse = np.sqrt(rmse/n)\n",
    "print(rmse)"
   ]
  },
  {
   "cell_type": "code",
   "execution_count": 13,
   "metadata": {
    "colab": {
     "base_uri": "https://localhost:8080/"
    },
    "id": "yakf7b2nxjkN",
    "outputId": "69e6cd75-2c57-4138-8af5-97ce1d4f422b"
   },
   "outputs": [
    {
     "name": "stdout",
     "output_type": "stream",
     "text": [
      "0.6393117199570003\n"
     ]
    }
   ],
   "source": [
    "ss_t = 0\n",
    "ss_r = 0\n",
    "for i in range(n):\n",
    "    y_pred = b0 + b1 * X[i]\n",
    "    ss_t += (Y[i] - mean_y) ** 2\n",
    "    ss_r += (Y[i] - y_pred) ** 2\n",
    "r2 = 1 - (ss_r/ss_t)\n",
    "print(r2)"
   ]
  },
  {
   "cell_type": "markdown",
   "metadata": {
    "id": "WxumdDT0yY8e"
   },
   "source": [
    "# The sickit Learn Approach\n"
   ]
  },
  {
   "cell_type": "markdown",
   "metadata": {
    "id": "BtzxjOGGykYG"
   },
   "source": [
    "Building Machine Learning models are very easy using scikit-learn. Let's see how we can build this Simple Linear Regression Model using scikit-learn."
   ]
  },
  {
   "cell_type": "code",
   "execution_count": 14,
   "metadata": {
    "colab": {
     "base_uri": "https://localhost:8080/"
    },
    "id": "48MYJ9ACyiRB",
    "outputId": "c6cc195c-8835-465d-9109-6cdb258cd590"
   },
   "outputs": [
    {
     "name": "stdout",
     "output_type": "stream",
     "text": [
      "72.1206213783709\n",
      "0.639311719957\n"
     ]
    }
   ],
   "source": [
    "from sklearn.linear_model import LinearRegression\n",
    "from sklearn.metrics import mean_squared_error\n",
    "\n",
    "# Cannot use Rank 1 matrix in scikit learn\n",
    "X = X.reshape((n, 1))\n",
    "# Creating Model\n",
    "reg = LinearRegression()\n",
    "# Fitting training data\n",
    "reg = reg.fit(X, Y)\n",
    "# Y Prediction\n",
    "Y_pred = reg.predict(X)\n",
    "\n",
    "# Calculating RMSE and R2 Score\n",
    "mse = mean_squared_error(Y, Y_pred)\n",
    "rmse = np.sqrt(mse)\n",
    "r2_score = reg.score(X, Y)\n",
    "\n",
    "print(np.sqrt(mse))\n",
    "print(r2_score)"
   ]
  },
  {
   "cell_type": "markdown",
   "metadata": {
    "id": "tRU8oVVP0b4b"
   },
   "source": [
    "# Multiple Linear Regression\n",
    "### (Datasets for this task is student.csv)\n",
    "Multiple Linear Regression is a type of Linear Regression when the input has multiple features ((variables)).Similar to Simple Linear Regression, we have input variable(X) and output variable(Y). But the input variable has nn features. Therefore, we can represent this linear model as follows;\n",
    "\\begin{align}\n",
    "        \\mathbf{Y} = \\theta_o + \\theta_1x_1 + \\theta_2x_2 + .....+ \\theta_nx_n\n",
    "    \\end{align}\n",
    "Rewriting the equation:where $x_0 = 1$:\n",
    "\\begin{align}\n",
    "        \\mathbf{Y} = \\theta_ox_0 + \\theta_1x_1 + \\theta_2x_2 + .....+ \\theta_nx_n\n",
    "    \\end{align}\n",
    "(Lets remove $\\theta_0$ for easy calculation.)\n",
    "Convert the equation to matrix:\n",
    "\\begin{align}\n",
    "        \\mathbf{Y} = \\theta^T X\n",
    "    \\end{align}\n",
    "where:\n",
    "\\begin{align}\n",
    "        \\mathbf{\\theta} = [\\theta_o, \\theta_1, ...., \\theta_n]^T\n",
    "    \\end{align}\n",
    "\\begin{align}\n",
    "        \\mathbf{X} = [x_o, x_1, ...., x_n]^T\n",
    "    \\end{align}\n",
    "\n",
    "Our function can now be defined as:\n",
    "\\begin{align}\n",
    "        \\mathbf{h_\\theta(.)}  = \\theta^T x\n",
    "    \\end{align}\n",
    "And the cost function will be:\n",
    "\\begin{align}\n",
    "        \\mathbf{J(\\theta)}  = \\frac{1}{2n} \\sum_{i=1}^n(h_\\theta(x_i) - y_i)^2\n",
    "    \\end{align}"
   ]
  },
  {
   "cell_type": "markdown",
   "metadata": {
    "id": "u6vZk44g2LEJ"
   },
   "source": [
    "## Steps:\n",
    "### (Datasets for this particular task is student.csv)\n",
    "*   Decision Task:\n",
    "    *   Predict the score of writing based on  given datasets.\n",
    "    *   Approach Multiple Linear Regression with Gradient Descent.\n",
    "*   Error Function and Evaluation Metrics:\n",
    "    *  MSE.\n",
    "    *  R squared.\n",
    "*   Tasks to DO:\n",
    "    *   Read the dataset using pandas.\n",
    "    *   Display top 5 and bottom 5 rows of datasets.\n",
    "    *   Information of the datasets.\n",
    "    *   Identify Feature and Target varaible.\n",
    "    *   We are doing mathematical operations we need to convert our feature and target variable into arrays.\n",
    "\n",
    "\n",
    "\n"
   ]
  },
  {
   "cell_type": "code",
   "execution_count": 15,
   "metadata": {
    "colab": {
     "base_uri": "https://localhost:8080/",
     "height": 206
    },
    "id": "z9fQNgdX2Bf-",
    "outputId": "447bb513-9ad1-45e7-de70-1ba87fc6db91"
   },
   "outputs": [
    {
     "data": {
      "text/html": [
       "<div>\n",
       "<style scoped>\n",
       "    .dataframe tbody tr th:only-of-type {\n",
       "        vertical-align: middle;\n",
       "    }\n",
       "\n",
       "    .dataframe tbody tr th {\n",
       "        vertical-align: top;\n",
       "    }\n",
       "\n",
       "    .dataframe thead th {\n",
       "        text-align: right;\n",
       "    }\n",
       "</style>\n",
       "<table border=\"1\" class=\"dataframe\">\n",
       "  <thead>\n",
       "    <tr style=\"text-align: right;\">\n",
       "      <th></th>\n",
       "      <th>Math</th>\n",
       "      <th>Reading</th>\n",
       "      <th>Writing</th>\n",
       "    </tr>\n",
       "  </thead>\n",
       "  <tbody>\n",
       "    <tr>\n",
       "      <th>0</th>\n",
       "      <td>48</td>\n",
       "      <td>68</td>\n",
       "      <td>63</td>\n",
       "    </tr>\n",
       "    <tr>\n",
       "      <th>1</th>\n",
       "      <td>62</td>\n",
       "      <td>81</td>\n",
       "      <td>72</td>\n",
       "    </tr>\n",
       "    <tr>\n",
       "      <th>2</th>\n",
       "      <td>79</td>\n",
       "      <td>80</td>\n",
       "      <td>78</td>\n",
       "    </tr>\n",
       "    <tr>\n",
       "      <th>3</th>\n",
       "      <td>76</td>\n",
       "      <td>83</td>\n",
       "      <td>79</td>\n",
       "    </tr>\n",
       "    <tr>\n",
       "      <th>4</th>\n",
       "      <td>59</td>\n",
       "      <td>64</td>\n",
       "      <td>62</td>\n",
       "    </tr>\n",
       "  </tbody>\n",
       "</table>\n",
       "</div>"
      ],
      "text/plain": [
       "   Math  Reading  Writing\n",
       "0    48       68       63\n",
       "1    62       81       72\n",
       "2    79       80       78\n",
       "3    76       83       79\n",
       "4    59       64       62"
      ]
     },
     "execution_count": 15,
     "metadata": {},
     "output_type": "execute_result"
    }
   ],
   "source": [
    "path_task2 = \"./data/student.csv\"\n",
    "data = pd.read_csv(path_task2)\n",
    "data.head()"
   ]
  },
  {
   "cell_type": "code",
   "execution_count": 16,
   "metadata": {
    "id": "x88JRgTd3TtQ"
   },
   "outputs": [],
   "source": [
    "math = data['Math'].values\n",
    "read = data['Reading'].values\n",
    "write = data['Writing'].values"
   ]
  },
  {
   "cell_type": "markdown",
   "metadata": {
    "id": "t-x0_Py63OTS"
   },
   "source": [
    "Lets Visualize the data:"
   ]
  },
  {
   "cell_type": "code",
   "execution_count": 17,
   "metadata": {
    "colab": {
     "base_uri": "https://localhost:8080/",
     "height": 751
    },
    "id": "jv3SJPuR3FDG",
    "outputId": "82e9afe6-372e-4fc1-c4cb-4d180ae53fa3"
   },
   "outputs": [
    {
     "name": "stderr",
     "output_type": "stream",
     "text": [
      "C:\\Users\\user\\AppData\\Local\\Temp/ipykernel_15780/2097655675.py:4: MatplotlibDeprecationWarning: Axes3D(fig) adding itself to the figure is deprecated since 3.4. Pass the keyword argument auto_add_to_figure=False and use fig.add_axes(ax) to suppress this warning. The default value of auto_add_to_figure will change to False in mpl3.5 and True values will no longer work in 3.6.  This is consistent with other Axes classes.\n",
      "  ax = Axes3D(fig)\n"
     ]
    },
    {
     "data": {
      "image/png": "[encoded data removed]",
      "text/plain": [
       "<Figure size 1440x720 with 1 Axes>"
      ]
     },
     "metadata": {
      "needs_background": "light"
     },
     "output_type": "display_data"
    }
   ],
   "source": [
    "from mpl_toolkits.mplot3d import Axes3D\n",
    "# Ploting the scores as scatter plot\n",
    "fig = plt.figure()\n",
    "ax = Axes3D(fig)\n",
    "ax.scatter(math, read, write, color='#ef1234')\n",
    "plt.show()"
   ]
  },
  {
   "cell_type": "markdown",
   "metadata": {
    "id": "gqqMWL-83dCQ"
   },
   "source": [
    "# Initialize the following values:\n",
    "(Remeber the rule for matrix multiplication)\n",
    "\n",
    "1.   $x_0$ to one Hint you can use np.ones methods of numpy\n",
    "2.   Initialize the values of B i.e we can start from 0\n",
    "3.   Initialize the learning rate to be 0.0001\n",
    "\n"
   ]
  },
  {
   "cell_type": "code",
   "execution_count": 18,
   "metadata": {
    "id": "1pnjiYt93YFO"
   },
   "outputs": [],
   "source": [
    "m = len(math)\n",
    "x0 = np.ones(m)\n",
    "X = np.array([x0, math, read]).T\n",
    "# Initial Coefficients/Weights\n",
    "W = np.array([0, 0, 0])\n",
    "Y = np.array(write)\n",
    "alpha = 0.0001"
   ]
  },
  {
   "cell_type": "markdown",
   "metadata": {
    "id": "XSc_C6-43y8v"
   },
   "source": [
    "# Cost Function\n",
    "Calculate the cost fucntion:\n",
    "From Lecture We know:\n",
    "\\begin{align}\n",
    "        \\mathbf{J(\\theta)}  = \\frac{1}{2n} \\sum_{i=1}^n(h_\\theta(x_i) - y_i)^2\n",
    "    \\end{align}\n",
    "### Hints:\n",
    "def cost_fucntion(parameters):\n",
    "*   \"\"\"Parameters\"\"\"\n",
    "      *   Array of features and targets\n",
    "      *   Array of weights or theta\n",
    "*   Returns Cost value J\n",
    "\n"
   ]
  },
  {
   "cell_type": "code",
   "execution_count": 19,
   "metadata": {
    "id": "asq8QiCw3xeu"
   },
   "outputs": [],
   "source": [
    "#Define the cost function\n",
    "def cost_function(X, Y, W):\n",
    "    \"\"\" Parameters:\n",
    "    X: Feature Matrix\n",
    "    Y: Target Matrix\n",
    "    W: Weight Matrix\n",
    "    \"\"\"\n",
    "     m = len(Y) # len of data in your datasets\n",
    "   \n",
    "    J = np.sum((X.dot(W) - Y) ** 2)/(2 * m)\n",
    "    return J"
   ]
  },
  {
   "cell_type": "code",
   "execution_count": 20,
   "metadata": {
    "colab": {
     "base_uri": "https://localhost:8080/"
    },
    "id": "FA8Zd6Of5qeo",
    "outputId": "8bcd4281-dd7a-4a51-fa8c-803e576d11d2",
    "scrolled": true
   },
   "outputs": [
    {
     "data": {
      "text/plain": [
       "(1000, 3)"
      ]
     },
     "execution_count": 20,
     "metadata": {},
     "output_type": "execute_result"
    }
   ],
   "source": [
    "X.shape"
   ]
  },
  {
   "cell_type": "code",
   "execution_count": 21,
   "metadata": {},
   "outputs": [
    {
     "name": "stdout",
     "output_type": "stream",
     "text": [
      "2470.11\n"
     ]
    }
   ],
   "source": [
    "B = np.zeros(X.shape[1])\n",
    "inital_cost = cost_function(X, Y, B)\n",
    "print(inital_cost)"
   ]
  },
  {
   "cell_type": "markdown",
   "metadata": {
    "id": "mD8wr11E6C5D"
   },
   "source": [
    "### Gradient:\n",
    "Function to estimate: \n",
    "  *   $h_\\theta(x) = \\theta^T x$\n",
    "\n",
    "*   Loss function to minimize: \n",
    "      *   $(h_\\theta(x) - y)^2$\n",
    "*   Gradient: Decsent update:\n",
    "      *   $\\theta_(j+1)   = \\theta_j - LR(D_\\theta)$\n",
    "*   $D(\\theta) = 1/m * (\\theta^T * X)$\n"
   ]
  },
  {
   "cell_type": "code",
   "execution_count": 24,
   "metadata": {},
   "outputs": [],
   "source": [
    "def gradient_descent(X, Y, B, alpha, iterations):\n",
    "    cost_history = [0] * iterations\n",
    "    m = len(Y)\n",
    "    \n",
    "    for iteration in range(iterations):\n",
    "        # Hypothesis Values\n",
    "        h = X.dot(B)\n",
    "        # Difference b/w Hypothesis and Actual Y\n",
    "        loss = h - Y\n",
    "        # Gradient Calculation\n",
    "        gradient = (X.T.dot(loss) ) / (m)\n",
    "        # Changing Values of B using Gradient\n",
    "        B = B - alpha * gradient\n",
    "        # New Cost Value\n",
    "        cost = cost_function(X, Y, B)\n",
    "        cost_history[iteration] = cost\n",
    "        \n",
    "    return B, cost_history"
   ]
  },
  {
   "cell_type": "code",
   "execution_count": 25,
   "metadata": {
    "colab": {
     "base_uri": "https://localhost:8080/"
    },
    "id": "Cv8ZpD6jN02P",
    "outputId": "bf9cde83-10a3-4c81-8f56-3657af01f52b"
   },
   "outputs": [
    {
     "name": "stdout",
     "output_type": "stream",
     "text": [
      "[-0.47889172  0.09137252  0.90144884]\n",
      "10.475123473539167\n"
     ]
    }
   ],
   "source": [
    "# 100000 Iterations\n",
    "newB, cost_history = gradient_descent(X, Y, B, alpha, 100000)\n",
    "\n",
    "# New Values of\n",
    "print(newB)\n",
    "\n",
    "# Final Cost of new B\n",
    "print(cost_history[-1])"
   ]
  },
  {
   "cell_type": "code",
   "execution_count": 26,
   "metadata": {
    "colab": {
     "base_uri": "https://localhost:8080/"
    },
    "id": "nT0BbSF2N55k",
    "outputId": "fb78063a-2b78-44fc-f190-9c9ec3ec1a6f"
   },
   "outputs": [
    {
     "name": "stdout",
     "output_type": "stream",
     "text": [
      "4.5771439727277885\n",
      "0.9097223273061554\n"
     ]
    }
   ],
   "source": [
    "# Model Evaluation - RMSE\n",
    "def rmse(Y, Y_pred):\n",
    "    rmse = np.sqrt(sum((Y - Y_pred) ** 2) / len(Y))\n",
    "    return rmse\n",
    "\n",
    "# Model Evaluation - R2 Score\n",
    "def r2_score(Y, Y_pred):\n",
    "    mean_y = np.mean(Y)\n",
    "    ss_tot = sum((Y - mean_y) ** 2)\n",
    "    ss_res = sum((Y - Y_pred) ** 2)\n",
    "    r2 = 1 - (ss_res / ss_tot)\n",
    "    return r2\n",
    "\n",
    "Y_pred = X.dot(newB)\n",
    "\n",
    "print(rmse(Y, Y_pred))\n",
    "print(r2_score(Y, Y_pred))"
   ]
  },
  {
   "cell_type": "markdown",
   "metadata": {
    "id": "vAbMjP-TWmam"
   },
   "source": [
    "# SK LEARN\n",
    "Simple Implementation of Ridge and Lasso Regularization"
   ]
  },
  {
   "cell_type": "code",
   "execution_count": 27,
   "metadata": {
    "colab": {
     "base_uri": "https://localhost:8080/"
    },
    "id": "cRZ61e3nWkT7",
    "outputId": "002d5ac0-e1b9-4fa4-eeee-99682b54cbac"
   },
   "outputs": [
    {
     "name": "stdout",
     "output_type": "stream",
     "text": [
      "4.572887051836439\n",
      "0.9098901726717316\n"
     ]
    }
   ],
   "source": [
    "from sklearn.linear_model import LinearRegression\n",
    "from sklearn.metrics import mean_squared_error\n",
    "\n",
    "# X and Y Values\n",
    "X = np.array([math, read]).T\n",
    "Y = np.array(write)\n",
    "\n",
    "# Model Intialization\n",
    "reg = LinearRegression()\n",
    "# Data Fitting\n",
    "reg = reg.fit(X, Y)\n",
    "# Y Prediction\n",
    "Y_pred = reg.predict(X)\n",
    "\n",
    "# Model Evaluation\n",
    "rmse = np.sqrt(mean_squared_error(Y, Y_pred))\n",
    "r2 = reg.score(X, Y)\n",
    "\n",
    "print(rmse)\n",
    "print(r2)"
   ]
  },
  {
   "cell_type": "code",
   "execution_count": 28,
   "metadata": {
    "colab": {
     "base_uri": "https://localhost:8080/"
    },
    "id": "SW9LLXhTWwpa",
    "outputId": "7c85ff84-6e08-4a28-90fe-79062fb8301e"
   },
   "outputs": [
    {
     "name": "stdout",
     "output_type": "stream",
     "text": [
      "4.572920311613435\n",
      "0.9098888618833271\n"
     ]
    }
   ],
   "source": [
    "from sklearn.linear_model import LinearRegression, Ridge, Lasso\n",
    "# X and Y Values\n",
    "X = np.array([math, read]).T\n",
    "Y = np.array(write)\n",
    "\n",
    "# Model Intialization\n",
    "reg = Lasso(alpha = 0.25)\n",
    "# Data Fitting\n",
    "reg = reg.fit(X, Y)\n",
    "# Y Prediction\n",
    "Y_pred = reg.predict(X)\n",
    "\n",
    "# Model Evaluation\n",
    "rmse = np.sqrt(mean_squared_error(Y, Y_pred))\n",
    "r2 = reg.score(X, Y)\n",
    "\n",
    "print(rmse)\n",
    "print(r2)"
   ]
  },
  {
   "cell_type": "code",
   "execution_count": null,
   "metadata": {},
   "outputs": [],
   "source": []
  }
 ],
 "metadata": {
  "colab": {
   "collapsed_sections": [],
   "name": "Wek-2-Workshops.ipynb",
   "provenance": []
  },
  "kernelspec": {
   "display_name": "Python 3 (ipykernel)",
   "language": "python",
   "name": "python3"
  },
  "language_info": {
   "codemirror_mode": {
    "name": "ipython",
    "version": 3
   },
   "file_extension": ".py",
   "mimetype": "text/x-python",
   "name": "python",
   "nbconvert_exporter": "python",
   "pygments_lexer": "ipython3",
   "version": "3.9.7"
  }
 },
 "nbformat": 4,
 "nbformat_minor": 1
}
