{
 "cells": [
  {
   "cell_type": "code",
   "execution_count": 1,
   "id": "dfae79a7",
   "metadata": {},
   "outputs": [],
   "source": [
    "# Necessary Imports\n",
    "import numpy as np \n",
    "import matplotlib.pyplot as plt\n",
    "%matplotlib inline\n",
    "import pandas as pd"
   ]
  },
  {
   "cell_type": "code",
   "execution_count": 2,
   "id": "1aa25b67",
   "metadata": {},
   "outputs": [],
   "source": [
    "def information_content(p_x):\n",
    "    \"\"\" Paramters:\n",
    "  p_x: probability of an event x\n",
    "  returns: Information content I \n",
    "  \"\"\"\n",
    "  ### Begin Solution\n",
    "    I = -np.log2(p_x)\n",
    "    return I\n",
    "  ### End Solution"
   ]
  },
  {
   "cell_type": "code",
   "execution_count": 3,
   "id": "270474d0",
   "metadata": {},
   "outputs": [],
   "source": [
    "# Helper Function\n",
    "# Initial plotting function\n",
    "def plot_function(function, inputs, title=None, ylabel=None):\n",
    "    fig, ax = plt.subplots()\n",
    "    ax.plot(inputs, function(inputs))\n",
    "    if title:\n",
    "        ax.set_title(title)\n",
    "    ax.set_xticks(np.linspace(0, 1, 11))\n",
    "    ax.set_xlabel(\"Probability of $x$\")\n",
    "    if ylabel:\n",
    "        ax.set_ylabel(ylabel)\n",
    "    plt.show()"
   ]
  },
  {
   "cell_type": "code",
   "execution_count": 4,
   "id": "e27cfd57",
   "metadata": {},
   "outputs": [
    {
     "data": {
      "image/png": "[encoded data removed]",
      "text/plain": [
       "<Figure size 432x288 with 1 Axes>"
      ]
     },
     "metadata": {
      "needs_background": "light"
     },
     "output_type": "display_data"
    }
   ],
   "source": [
    "# Write your code to display figure below\n",
    "p_x = np.linspace(1, 0, 1001, endpoint=False)[1:] # Probabilities on (0, 1)\n",
    "plot_function(information_content, p_x, title=\"Probability vs. information\", ylabel=\"Information $I(x)$ (bits)\")"
   ]
  },
  {
   "cell_type": "code",
   "execution_count": 5,
   "id": "5c581dfe",
   "metadata": {},
   "outputs": [],
   "source": [
    "path = \"./data/samplecar.csv\"\n",
    "dataset = pd.read_csv(path)"
   ]
  },
  {
   "cell_type": "code",
   "execution_count": 6,
   "id": "ea99639a",
   "metadata": {},
   "outputs": [
    {
     "data": {
      "text/html": [
       "<div>\n",
       "<style scoped>\n",
       "    .dataframe tbody tr th:only-of-type {\n",
       "        vertical-align: middle;\n",
       "    }\n",
       "\n",
       "    .dataframe tbody tr th {\n",
       "        vertical-align: top;\n",
       "    }\n",
       "\n",
       "    .dataframe thead th {\n",
       "        text-align: right;\n",
       "    }\n",
       "</style>\n",
       "<table border=\"1\" class=\"dataframe\">\n",
       "  <thead>\n",
       "    <tr style=\"text-align: right;\">\n",
       "      <th></th>\n",
       "      <th>Type</th>\n",
       "      <th>Price</th>\n",
       "      <th>Buy</th>\n",
       "    </tr>\n",
       "  </thead>\n",
       "  <tbody>\n",
       "    <tr>\n",
       "      <th>0</th>\n",
       "      <td>SUV</td>\n",
       "      <td>H</td>\n",
       "      <td>No</td>\n",
       "    </tr>\n",
       "    <tr>\n",
       "      <th>1</th>\n",
       "      <td>HB</td>\n",
       "      <td>H</td>\n",
       "      <td>No</td>\n",
       "    </tr>\n",
       "    <tr>\n",
       "      <th>2</th>\n",
       "      <td>HB</td>\n",
       "      <td>H</td>\n",
       "      <td>Yes</td>\n",
       "    </tr>\n",
       "    <tr>\n",
       "      <th>3</th>\n",
       "      <td>HB</td>\n",
       "      <td>L</td>\n",
       "      <td>No</td>\n",
       "    </tr>\n",
       "    <tr>\n",
       "      <th>4</th>\n",
       "      <td>SEDAN</td>\n",
       "      <td>H</td>\n",
       "      <td>Yes</td>\n",
       "    </tr>\n",
       "  </tbody>\n",
       "</table>\n",
       "</div>"
      ],
      "text/plain": [
       "    Type Price  Buy\n",
       "0    SUV     H   No\n",
       "1     HB     H   No\n",
       "2     HB     H  Yes\n",
       "3     HB     L   No\n",
       "4  SEDAN     H  Yes"
      ]
     },
     "execution_count": 6,
     "metadata": {},
     "output_type": "execute_result"
    }
   ],
   "source": [
    "dataset.head()"
   ]
  },
  {
   "cell_type": "code",
   "execution_count": 7,
   "id": "12977117",
   "metadata": {},
   "outputs": [],
   "source": [
    "# identify features and label and seperate it\n",
    "features = dataset.iloc[:, :-1]\n",
    "target = dataset.iloc[:,-1:]\n",
    "\n",
    "# sanity check\n",
    "assert features.shape[0] == target.shape[0], \" len(features) == len(target)\""
   ]
  },
  {
   "cell_type": "code",
   "execution_count": 8,
   "id": "3f21db4b",
   "metadata": {},
   "outputs": [
    {
     "name": "stdout",
     "output_type": "stream",
     "text": [
      "    Type Price\n",
      "0    SUV     H\n",
      "1     HB     H\n",
      "2     HB     H\n",
      "3     HB     L\n",
      "4  SEDAN     H\n",
      "5  SEDAN     L\n",
      "6    SUV     L\n",
      "7  SEDAN     H\n",
      "8     HB     L\n",
      "9    SUV   Hot\n"
     ]
    }
   ],
   "source": [
    "print(features)"
   ]
  },
  {
   "cell_type": "code",
   "execution_count": 9,
   "id": "3ae55d5e",
   "metadata": {},
   "outputs": [
    {
     "name": "stdout",
     "output_type": "stream",
     "text": [
      "   Buy\n",
      "0   No\n",
      "1   No\n",
      "2  Yes\n",
      "3   No\n",
      "4  Yes\n",
      "5  Yes\n",
      "6   No\n",
      "7  Yes\n",
      "8  Yes\n",
      "9  Yes\n"
     ]
    }
   ],
   "source": [
    "print(target)"
   ]
  },
  {
   "cell_type": "code",
   "execution_count": 10,
   "id": "cf6594e9",
   "metadata": {},
   "outputs": [
    {
     "data": {
      "text/plain": [
       "Yes    6\n",
       "No     4\n",
       "Name: Buy, dtype: int64"
      ]
     },
     "execution_count": 10,
     "metadata": {},
     "output_type": "execute_result"
    }
   ],
   "source": [
    "dataset['Buy'].value_counts()"
   ]
  },
  {
   "cell_type": "code",
   "execution_count": 11,
   "id": "d2838a0e",
   "metadata": {},
   "outputs": [
    {
     "name": "stdout",
     "output_type": "stream",
     "text": [
      "0.6 0.4\n",
      "0.9709505944546686\n"
     ]
    }
   ],
   "source": [
    "tot = len(dataset)\n",
    "tot_n = dataset[dataset[\"Buy\"] == \"No\"].shape[0]\n",
    "tot_y = dataset[dataset[\"Buy\"] == \"Yes\"].shape[0]\n",
    "prob_y = tot_y/tot\n",
    "prob_n = tot_n/tot\n",
    "print(prob_y, prob_n)\n",
    "H_tot = -prob_y * np.log2(prob_y) - prob_n * np.log2(prob_n)\n",
    "print(H_tot)"
   ]
  },
  {
   "cell_type": "code",
   "execution_count": 12,
   "id": "2617b72b",
   "metadata": {},
   "outputs": [
    {
     "name": "stdout",
     "output_type": "stream",
     "text": [
      "0.9182958340544896\n"
     ]
    }
   ],
   "source": [
    "Type = dataset[\"Type\"].unique()\n",
    "SUV = dataset[dataset[\"Type\"] == \"SUV\"]\n",
    "#print(SUV.head())\n",
    "tot_SUV = len(SUV)\n",
    "tot_SUV_yes = SUV[SUV[\"Buy\"] == \"Yes\"].shape[0]\n",
    "tot_SUV_no = SUV[SUV[\"Buy\"] == \"No\"].shape[0]\n",
    "prob_SUV_yes = tot_SUV_yes/tot_SUV\n",
    "prob_SUV_no = tot_SUV_no/tot_SUV\n",
    "H_Type_SUV = -prob_SUV_yes * np.log2(prob_SUV_yes) - prob_SUV_no * np.log2(prob_SUV_no)\n",
    "print(H_Type_SUV)"
   ]
  },
  {
   "cell_type": "code",
   "execution_count": 13,
   "id": "5f07f945",
   "metadata": {},
   "outputs": [
    {
     "name": "stdout",
     "output_type": "stream",
     "text": [
      "1.0\n"
     ]
    }
   ],
   "source": [
    "Type = dataset[\"Type\"].unique()\n",
    "HB = dataset[dataset[\"Type\"] == \"HB\"]\n",
    "#print(HB.head())\n",
    "tot_HB = len(HB)\n",
    "tot_HB_yes = HB[HB[\"Buy\"] == \"Yes\"].shape[0]\n",
    "tot_HB_no = HB[HB[\"Buy\"] == \"No\"].shape[0]\n",
    "prob_HB_yes = tot_HB_yes/tot_HB\n",
    "prob_HB_no = tot_HB_no/tot_HB\n",
    "H_Type_HB = -prob_HB_yes * np.log2(prob_HB_yes) - prob_HB_no * np.log2(prob_HB_no)\n",
    "print(H_Type_HB)"
   ]
  },
  {
   "cell_type": "code",
   "execution_count": 14,
   "id": "9a079f57",
   "metadata": {},
   "outputs": [
    {
     "name": "stdout",
     "output_type": "stream",
     "text": [
      "2.9897352853986267e-08\n"
     ]
    }
   ],
   "source": [
    "Type = dataset[\"Type\"].unique()\n",
    "SEDAN = dataset[dataset[\"Type\"] == \"SEDAN\"]\n",
    "#print(SEDAN.head())\n",
    "tot_SEDAN = len(SEDAN)\n",
    "tot_SEDAN_yes = SEDAN[SEDAN[\"Buy\"] == \"Yes\"].shape[0]\n",
    "tot_SEDAN_no = SEDAN[SEDAN[\"Buy\"] == \"No\"].shape[0]\n",
    "prob_SEDAN_yes = tot_SEDAN_yes/tot_SEDAN\n",
    "prob_SEDAN_no = tot_SEDAN_no/tot_SEDAN\n",
    "prob_SEDAN_no = 0.000000001\n",
    "H_Type_SEDAN = -prob_SEDAN_yes * np.log2(prob_SEDAN_yes) - prob_SEDAN_no * np.log2(prob_SEDAN_no)\n",
    "print(H_Type_SEDAN)"
   ]
  },
  {
   "cell_type": "code",
   "execution_count": 15,
   "id": "c6aeb019",
   "metadata": {},
   "outputs": [
    {
     "name": "stdout",
     "output_type": "stream",
     "text": [
      "0.6754887591855527\n"
     ]
    }
   ],
   "source": [
    "prob_SUV = tot_SUV/tot\n",
    "prob_HB = tot_HB/tot\n",
    "prob_SEDAN = tot_SEDAN/tot\n",
    "I_Type = prob_SUV * H_Type_SUV + prob_HB * H_Type_HB + prob_SEDAN * H_Type_SEDAN\n",
    "print(I_Type)"
   ]
  },
  {
   "cell_type": "code",
   "execution_count": 16,
   "id": "5b742730",
   "metadata": {},
   "outputs": [
    {
     "name": "stdout",
     "output_type": "stream",
     "text": [
      "0.9709505944546686\n"
     ]
    }
   ],
   "source": [
    "Price = dataset[\"Price\"].unique()\n",
    "H = dataset[dataset[\"Price\"] == \"H\"]\n",
    "#print(H.head())\n",
    "tot_H = len(H)\n",
    "tot_H_yes = H[H[\"Buy\"] == \"Yes\"].shape[0]\n",
    "tot_H_no = H[H[\"Buy\"] == \"No\"].shape[0]\n",
    "prob_H_yes = tot_H_yes/tot_H\n",
    "prob_H_no = tot_H_no/tot_H\n",
    "H_Price_H = -prob_H_yes * np.log2(prob_H_yes) - prob_H_no * np.log2(prob_H_no)\n",
    "print(H_Price_H)"
   ]
  },
  {
   "cell_type": "code",
   "execution_count": 17,
   "id": "8ac37b1b",
   "metadata": {},
   "outputs": [
    {
     "name": "stdout",
     "output_type": "stream",
     "text": [
      "1.0\n"
     ]
    }
   ],
   "source": [
    "Price = dataset[\"Price\"].unique()\n",
    "L = dataset[dataset[\"Price\"] == \"L\"]\n",
    "#print(L.head())\n",
    "tot_L = len(L)\n",
    "tot_L_yes = L[L[\"Buy\"] == \"Yes\"].shape[0]\n",
    "tot_L_no = L[L[\"Buy\"] == \"No\"].shape[0]\n",
    "prob_L_yes = tot_L_yes/tot_L\n",
    "prob_L_no = tot_L_no/tot_L\n",
    "H_Price_L = -prob_L_yes * np.log2(prob_L_yes) - prob_L_no * np.log2(prob_L_no)\n",
    "print(H_Price_L)"
   ]
  },
  {
   "cell_type": "code",
   "execution_count": 18,
   "id": "ddb1605b",
   "metadata": {},
   "outputs": [
    {
     "name": "stdout",
     "output_type": "stream",
     "text": [
      "0.8854752972273343\n"
     ]
    }
   ],
   "source": [
    "prob_H = tot_H/tot\n",
    "prob_L = tot_L/tot\n",
    "I_Price = prob_H * H_Price_H + prob_L * H_Price_L\n",
    "print(I_Price)"
   ]
  },
  {
   "cell_type": "code",
   "execution_count": 20,
   "id": "51210ba7",
   "metadata": {},
   "outputs": [
    {
     "data": {
      "text/plain": [
       "0.5"
      ]
     },
     "execution_count": 20,
     "metadata": {},
     "output_type": "execute_result"
    }
   ],
   "source": [
    "prob_H"
   ]
  },
  {
   "cell_type": "code",
   "execution_count": 19,
   "id": "4a74c108",
   "metadata": {},
   "outputs": [
    {
     "data": {
      "text/plain": [
       "True"
      ]
     },
     "execution_count": 19,
     "metadata": {},
     "output_type": "execute_result"
    }
   ],
   "source": [
    "I_Price > I_Type"
   ]
  }
 ],
 "metadata": {
  "kernelspec": {
   "display_name": "Python 3 (ipykernel)",
   "language": "python",
   "name": "python3"
  },
  "language_info": {
   "codemirror_mode": {
    "name": "ipython",
    "version": 3
   },
   "file_extension": ".py",
   "mimetype": "text/x-python",
   "name": "python",
   "nbconvert_exporter": "python",
   "pygments_lexer": "ipython3",
   "version": "3.9.7"
  }
 },
 "nbformat": 4,
 "nbformat_minor": 5
}
