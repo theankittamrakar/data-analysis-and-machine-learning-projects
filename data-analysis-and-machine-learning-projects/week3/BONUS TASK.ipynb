{
 "cells": [
  {
   "cell_type": "code",
   "execution_count": 1,
   "id": "f12cd14d",
   "metadata": {},
   "outputs": [],
   "source": [
    "path = \"./data/play_tennis.csv\""
   ]
  },
  {
   "cell_type": "code",
   "execution_count": 2,
   "id": "a25399ae",
   "metadata": {},
   "outputs": [],
   "source": [
    "# Necessary Imports\n",
    "import numpy as np \n",
    "import matplotlib.pyplot as plt\n",
    "%matplotlib inline\n",
    "import pandas as pd"
   ]
  },
  {
   "cell_type": "code",
   "execution_count": 17,
   "id": "7639958b",
   "metadata": {},
   "outputs": [
    {
     "data": {
      "text/html": [
       "<div>\n",
       "<style scoped>\n",
       "    .dataframe tbody tr th:only-of-type {\n",
       "        vertical-align: middle;\n",
       "    }\n",
       "\n",
       "    .dataframe tbody tr th {\n",
       "        vertical-align: top;\n",
       "    }\n",
       "\n",
       "    .dataframe thead th {\n",
       "        text-align: right;\n",
       "    }\n",
       "</style>\n",
       "<table border=\"1\" class=\"dataframe\">\n",
       "  <thead>\n",
       "    <tr style=\"text-align: right;\">\n",
       "      <th></th>\n",
       "      <th>outlook</th>\n",
       "      <th>temp</th>\n",
       "      <th>humidity</th>\n",
       "      <th>wind</th>\n",
       "      <th>play</th>\n",
       "    </tr>\n",
       "  </thead>\n",
       "  <tbody>\n",
       "    <tr>\n",
       "      <th>0</th>\n",
       "      <td>Sunny</td>\n",
       "      <td>Hot</td>\n",
       "      <td>High</td>\n",
       "      <td>Weak</td>\n",
       "      <td>No</td>\n",
       "    </tr>\n",
       "    <tr>\n",
       "      <th>1</th>\n",
       "      <td>Sunny</td>\n",
       "      <td>Hot</td>\n",
       "      <td>High</td>\n",
       "      <td>Strong</td>\n",
       "      <td>No</td>\n",
       "    </tr>\n",
       "    <tr>\n",
       "      <th>2</th>\n",
       "      <td>Overcast</td>\n",
       "      <td>Hot</td>\n",
       "      <td>High</td>\n",
       "      <td>Weak</td>\n",
       "      <td>Yes</td>\n",
       "    </tr>\n",
       "    <tr>\n",
       "      <th>3</th>\n",
       "      <td>Rain</td>\n",
       "      <td>Mild</td>\n",
       "      <td>High</td>\n",
       "      <td>Weak</td>\n",
       "      <td>Yes</td>\n",
       "    </tr>\n",
       "    <tr>\n",
       "      <th>4</th>\n",
       "      <td>Rain</td>\n",
       "      <td>Cool</td>\n",
       "      <td>Normal</td>\n",
       "      <td>Weak</td>\n",
       "      <td>Yes</td>\n",
       "    </tr>\n",
       "  </tbody>\n",
       "</table>\n",
       "</div>"
      ],
      "text/plain": [
       "    outlook  temp humidity    wind play\n",
       "0     Sunny   Hot     High    Weak   No\n",
       "1     Sunny   Hot     High  Strong   No\n",
       "2  Overcast   Hot     High    Weak  Yes\n",
       "3      Rain  Mild     High    Weak  Yes\n",
       "4      Rain  Cool   Normal    Weak  Yes"
      ]
     },
     "execution_count": 17,
     "metadata": {},
     "output_type": "execute_result"
    }
   ],
   "source": [
    "data = pd.read_csv(path)\n",
    "data.head()"
   ]
  },
  {
   "cell_type": "code",
   "execution_count": 4,
   "id": "841e34cb",
   "metadata": {},
   "outputs": [
    {
     "name": "stdout",
     "output_type": "stream",
     "text": [
      "Dataset Length:  14\n",
      "Dataset Shape:  (14, 5)\n"
     ]
    }
   ],
   "source": [
    "print (\"Dataset Length: \", len(data))\n",
    "print(\"Dataset Shape: \", data.shape)"
   ]
  },
  {
   "cell_type": "code",
   "execution_count": 12,
   "id": "8e12174e",
   "metadata": {},
   "outputs": [],
   "source": [
    "data.target = data['play']"
   ]
  },
  {
   "cell_type": "code",
   "execution_count": 13,
   "id": "f19e342e",
   "metadata": {},
   "outputs": [],
   "source": [
    "def Entropy(data): #Entropy(data) Entropy(data. Loc[data['outlook']=='sunny'])\n",
    "    d = data.iloc[:,-1]\n",
    "    d = d.value_counts()\n",
    "    s = 0\n",
    "    for v in d.keys():\n",
    "        p = d[v]/sum(d)\n",
    "        s -= p*np.log2(p)\n",
    "    return(s)"
   ]
  },
  {
   "cell_type": "code",
   "execution_count": 15,
   "id": "dda8d90f",
   "metadata": {},
   "outputs": [
    {
     "data": {
      "text/plain": [
       "0.9402859586706311"
      ]
     },
     "execution_count": 15,
     "metadata": {},
     "output_type": "execute_result"
    }
   ],
   "source": [
    "Entropy(data)"
   ]
  },
  {
   "cell_type": "code",
   "execution_count": 19,
   "id": "1d6bb292",
   "metadata": {},
   "outputs": [
    {
     "data": {
      "text/plain": [
       "0.9709505944546686"
      ]
     },
     "execution_count": 19,
     "metadata": {},
     "output_type": "execute_result"
    }
   ],
   "source": [
    "Entropy(data.loc[data['outlook'] == 'Sunny'])"
   ]
  },
  {
   "cell_type": "code",
   "execution_count": 20,
   "id": "67b6d849",
   "metadata": {},
   "outputs": [
    {
     "data": {
      "text/plain": [
       "0.0"
      ]
     },
     "execution_count": 20,
     "metadata": {},
     "output_type": "execute_result"
    }
   ],
   "source": [
    "Entropy(data.loc[data['outlook'] == 'Overcast'])"
   ]
  },
  {
   "cell_type": "code",
   "execution_count": 21,
   "id": "5ba929a5",
   "metadata": {},
   "outputs": [
    {
     "data": {
      "text/plain": [
       "0.9709505944546686"
      ]
     },
     "execution_count": 21,
     "metadata": {},
     "output_type": "execute_result"
    }
   ],
   "source": [
    "Entropy(data.loc[data['outlook'] == 'Rain'])"
   ]
  },
  {
   "cell_type": "code",
   "execution_count": 25,
   "id": "4853fc8f",
   "metadata": {},
   "outputs": [],
   "source": [
    "def values (attr):\n",
    "    l = []\n",
    "    for x in attr:\n",
    "        if x not in l:\n",
    "            l.append (x)\n",
    "    return l"
   ]
  },
  {
   "cell_type": "code",
   "execution_count": 26,
   "id": "2aa7da25",
   "metadata": {},
   "outputs": [
    {
     "data": {
      "text/plain": [
       "['outlook', 'temp', 'humidity', 'wind', 'play']"
      ]
     },
     "execution_count": 26,
     "metadata": {},
     "output_type": "execute_result"
    }
   ],
   "source": [
    "values (data)"
   ]
  },
  {
   "cell_type": "code",
   "execution_count": 27,
   "id": "6c328f02",
   "metadata": {},
   "outputs": [
    {
     "data": {
      "text/plain": [
       "['Sunny', 'Overcast', 'Rain']"
      ]
     },
     "execution_count": 27,
     "metadata": {},
     "output_type": "execute_result"
    }
   ],
   "source": [
    "values (data['outlook'])"
   ]
  },
  {
   "cell_type": "code",
   "execution_count": 33,
   "id": "ffd4a08e",
   "metadata": {},
   "outputs": [],
   "source": [
    "def IG(data, A): #IG(data, 'outlook')\n",
    "    Es = Entropy(data) \n",
    "    val = values(data[A]) \n",
    "    s_c = data[A].value_counts()\n",
    "    s_v = []\n",
    "\n",
    "    for v in range(len(val)):\n",
    "        ds = data[data[A] == val[v]] \n",
    "        s = 0;\n",
    "        for res in values(data.iloc[:,-1]):\n",
    "            try:\n",
    "                pi = ds.iloc[:, -1].value_counts()[res]/len(ds)\n",
    "                s -= pi*np.log2(pi)\n",
    "            except:\n",
    "                s = 0\n",
    "        s_v.append (s)\n",
    "        \n",
    "    for i in range (len(val)):\n",
    "        Es = Es - s_c[val[i]]*s_v[i]/sum(s_c)\n",
    "        \n",
    "    return Es"
   ]
  },
  {
   "cell_type": "code",
   "execution_count": 34,
   "id": "676797e0",
   "metadata": {},
   "outputs": [
    {
     "data": {
      "text/plain": [
       "0.24674981977443927"
      ]
     },
     "execution_count": 34,
     "metadata": {},
     "output_type": "execute_result"
    }
   ],
   "source": [
    "IG(data, 'outlook')"
   ]
  },
  {
   "cell_type": "code",
   "execution_count": 35,
   "id": "ad6555e6",
   "metadata": {},
   "outputs": [
    {
     "data": {
      "text/plain": [
       "1.0"
      ]
     },
     "execution_count": 35,
     "metadata": {},
     "output_type": "execute_result"
    }
   ],
   "source": [
    "Entropy(data.loc[data['temp'] == 'Hot'])"
   ]
  },
  {
   "cell_type": "code",
   "execution_count": 36,
   "id": "40002669",
   "metadata": {},
   "outputs": [
    {
     "data": {
      "text/plain": [
       "0.9182958340544896"
      ]
     },
     "execution_count": 36,
     "metadata": {},
     "output_type": "execute_result"
    }
   ],
   "source": [
    "Entropy(data.loc[data['temp'] == 'Mild'])"
   ]
  },
  {
   "cell_type": "code",
   "execution_count": 37,
   "id": "69f157fc",
   "metadata": {},
   "outputs": [
    {
     "data": {
      "text/plain": [
       "0.8112781244591328"
      ]
     },
     "execution_count": 37,
     "metadata": {},
     "output_type": "execute_result"
    }
   ],
   "source": [
    "Entropy(data.loc[data['temp'] == 'Cool'])"
   ]
  },
  {
   "cell_type": "code",
   "execution_count": 38,
   "id": "724853f0",
   "metadata": {},
   "outputs": [
    {
     "data": {
      "text/plain": [
       "0.029222565658954813"
      ]
     },
     "execution_count": 38,
     "metadata": {},
     "output_type": "execute_result"
    }
   ],
   "source": [
    "IG(data, 'temp')"
   ]
  },
  {
   "cell_type": "code",
   "execution_count": 39,
   "id": "1ea9689d",
   "metadata": {},
   "outputs": [
    {
     "data": {
      "text/plain": [
       "0.9852281360342515"
      ]
     },
     "execution_count": 39,
     "metadata": {},
     "output_type": "execute_result"
    }
   ],
   "source": [
    "Entropy(data.loc[data['humidity'] == 'High'])"
   ]
  },
  {
   "cell_type": "code",
   "execution_count": 40,
   "id": "60092028",
   "metadata": {},
   "outputs": [
    {
     "data": {
      "text/plain": [
       "0.5916727785823275"
      ]
     },
     "execution_count": 40,
     "metadata": {},
     "output_type": "execute_result"
    }
   ],
   "source": [
    "Entropy(data.loc[data['humidity'] == 'Normal'])"
   ]
  },
  {
   "cell_type": "code",
   "execution_count": 41,
   "id": "1469e3b1",
   "metadata": {},
   "outputs": [
    {
     "data": {
      "text/plain": [
       "0.15183550136234164"
      ]
     },
     "execution_count": 41,
     "metadata": {},
     "output_type": "execute_result"
    }
   ],
   "source": [
    "IG(data, 'humidity')"
   ]
  },
  {
   "cell_type": "code",
   "execution_count": 42,
   "id": "a7e3eaa7",
   "metadata": {},
   "outputs": [
    {
     "data": {
      "text/plain": [
       "0.8112781244591328"
      ]
     },
     "execution_count": 42,
     "metadata": {},
     "output_type": "execute_result"
    }
   ],
   "source": [
    "Entropy(data.loc[data['wind'] == 'Weak'])"
   ]
  },
  {
   "cell_type": "code",
   "execution_count": 43,
   "id": "b9183dbb",
   "metadata": {},
   "outputs": [
    {
     "data": {
      "text/plain": [
       "1.0"
      ]
     },
     "execution_count": 43,
     "metadata": {},
     "output_type": "execute_result"
    }
   ],
   "source": [
    "Entropy(data.loc[data['wind'] == 'Strong'])"
   ]
  },
  {
   "cell_type": "code",
   "execution_count": 44,
   "id": "89807d46",
   "metadata": {},
   "outputs": [
    {
     "data": {
      "text/plain": [
       "0.048127030408269544"
      ]
     },
     "execution_count": 44,
     "metadata": {},
     "output_type": "execute_result"
    }
   ],
   "source": [
    "IG(data, 'wind')"
   ]
  },
  {
   "cell_type": "markdown",
   "id": "8ad471cb",
   "metadata": {},
   "source": [
    "As the feature Outlook has the highest value, so it will be selected for our tree node."
   ]
  },
  {
   "cell_type": "code",
   "execution_count": 45,
   "id": "8f30042e",
   "metadata": {},
   "outputs": [
    {
     "data": {
      "text/plain": [
       "0.9709505944546686"
      ]
     },
     "execution_count": 45,
     "metadata": {},
     "output_type": "execute_result"
    }
   ],
   "source": [
    "Entropy(data.loc[data['outlook'] == 'Sunny'])\n",
    "#non zero so IG is calcualted"
   ]
  },
  {
   "cell_type": "code",
   "execution_count": 46,
   "id": "7f4494d7",
   "metadata": {},
   "outputs": [
    {
     "data": {
      "text/plain": [
       "0.9709505944546686"
      ]
     },
     "execution_count": 46,
     "metadata": {},
     "output_type": "execute_result"
    }
   ],
   "source": [
    "IG(data.loc[data['outlook'] == 'Sunny'],\"humidity\")"
   ]
  },
  {
   "cell_type": "code",
   "execution_count": 47,
   "id": "6ec21b55",
   "metadata": {},
   "outputs": [
    {
     "data": {
      "text/plain": [
       "0.5709505944546686"
      ]
     },
     "execution_count": 47,
     "metadata": {},
     "output_type": "execute_result"
    }
   ],
   "source": [
    "IG(data.loc[data['outlook'] == 'Sunny'],\"temp\")"
   ]
  },
  {
   "cell_type": "code",
   "execution_count": 49,
   "id": "3df7b66b",
   "metadata": {},
   "outputs": [
    {
     "data": {
      "text/plain": [
       "0.01997309402197478"
      ]
     },
     "execution_count": 49,
     "metadata": {},
     "output_type": "execute_result"
    }
   ],
   "source": [
    "IG(data.loc[data['outlook'] == 'Sunny'],\"wind\")"
   ]
  },
  {
   "cell_type": "markdown",
   "id": "595c9bc5",
   "metadata": {},
   "source": [
    "Humdity has the highest IG so it will be chosen with respect to Sunny"
   ]
  },
  {
   "cell_type": "code",
   "execution_count": 51,
   "id": "ff8b6b03",
   "metadata": {},
   "outputs": [
    {
     "data": {
      "text/plain": [
       "0.9709505944546686"
      ]
     },
     "execution_count": 51,
     "metadata": {},
     "output_type": "execute_result"
    }
   ],
   "source": [
    "Entropy(data.loc[data['outlook'] == 'Rain'])"
   ]
  },
  {
   "cell_type": "code",
   "execution_count": 52,
   "id": "a960d1b8",
   "metadata": {},
   "outputs": [
    {
     "data": {
      "text/plain": [
       "0.01997309402197478"
      ]
     },
     "execution_count": 52,
     "metadata": {},
     "output_type": "execute_result"
    }
   ],
   "source": [
    "IG(data.loc[data['outlook'] == 'Rain'],\"humidity\")"
   ]
  },
  {
   "cell_type": "code",
   "execution_count": 53,
   "id": "d17afcd3",
   "metadata": {},
   "outputs": [
    {
     "data": {
      "text/plain": [
       "0.01997309402197478"
      ]
     },
     "execution_count": 53,
     "metadata": {},
     "output_type": "execute_result"
    }
   ],
   "source": [
    "IG(data.loc[data['outlook'] == 'Rain'],\"temp\")"
   ]
  },
  {
   "cell_type": "code",
   "execution_count": 55,
   "id": "b31f9f1e",
   "metadata": {},
   "outputs": [
    {
     "data": {
      "text/plain": [
       "0.9709505944546686"
      ]
     },
     "execution_count": 55,
     "metadata": {},
     "output_type": "execute_result"
    }
   ],
   "source": [
    "IG(data.loc[data['outlook'] == 'Rain'],\"wind\")"
   ]
  },
  {
   "cell_type": "markdown",
   "id": "30c6e166",
   "metadata": {},
   "source": [
    "Wind has the highest IG, so will be chosen with respect to Rain"
   ]
  },
  {
   "cell_type": "code",
   "execution_count": 56,
   "id": "cac04fa9",
   "metadata": {},
   "outputs": [
    {
     "data": {
      "text/plain": [
       "0.0"
      ]
     },
     "execution_count": 56,
     "metadata": {},
     "output_type": "execute_result"
    }
   ],
   "source": [
    "Entropy(data.loc[data['outlook'] == 'Overcast'])"
   ]
  },
  {
   "cell_type": "markdown",
   "id": "3a01944e",
   "metadata": {},
   "source": [
    "The entropy of dataset with respect to overcast is 0. This means all the observations with repsect to the attribute has the same class 'yes'. Hence, output can be labeled as 'yes' for the 'overcast' attribute of 'outlook'"
   ]
  },
  {
   "cell_type": "code",
   "execution_count": 61,
   "id": "be77cf24",
   "metadata": {},
   "outputs": [
    {
     "data": {
      "text/plain": [
       "0.0"
      ]
     },
     "execution_count": 61,
     "metadata": {},
     "output_type": "execute_result"
    }
   ],
   "source": [
    "Entropy(data.loc[(data['outlook'] == 'Sunny') & (data['humidity'] == 'High')])"
   ]
  },
  {
   "cell_type": "markdown",
   "id": "b81c11d6",
   "metadata": {},
   "source": [
    "Entropy of above dataset is 0. The output can labeled as only class present in the dataset('no') for attribute 'high' of humidity."
   ]
  },
  {
   "cell_type": "code",
   "execution_count": 60,
   "id": "26db8cdb",
   "metadata": {},
   "outputs": [
    {
     "data": {
      "text/plain": [
       "0.0"
      ]
     },
     "execution_count": 60,
     "metadata": {},
     "output_type": "execute_result"
    }
   ],
   "source": [
    "Entropy(data.loc[(data['outlook'] == 'Sunny') & (data['humidity'] == 'Normal')])"
   ]
  },
  {
   "cell_type": "markdown",
   "id": "5595dc82",
   "metadata": {},
   "source": [
    "Entropy of above dataset is 0. The output can labeled as only class present in the dataset('yes') for attribute 'normal' of humidity."
   ]
  },
  {
   "cell_type": "code",
   "execution_count": 63,
   "id": "7c43bb4d",
   "metadata": {},
   "outputs": [
    {
     "data": {
      "text/plain": [
       "0"
      ]
     },
     "execution_count": 63,
     "metadata": {},
     "output_type": "execute_result"
    }
   ],
   "source": [
    "Entropy(data.loc[(data['outlook'] == 'rainy') & (data['wind'] == 'Weak')])"
   ]
  },
  {
   "cell_type": "markdown",
   "id": "94670cb2",
   "metadata": {},
   "source": [
    "As the entropy of the above dataset is 0, output can be labele as only class present in dataset'yes' for attribute\"WEak\" of wind."
   ]
  },
  {
   "cell_type": "code",
   "execution_count": 64,
   "id": "31071b19",
   "metadata": {},
   "outputs": [
    {
     "data": {
      "text/plain": [
       "0"
      ]
     },
     "execution_count": 64,
     "metadata": {},
     "output_type": "execute_result"
    }
   ],
   "source": [
    "Entropy(data.loc[(data['outlook'] == 'rainy') & (data['wind'] == 'Strong')])"
   ]
  },
  {
   "cell_type": "markdown",
   "id": "4e066c9d",
   "metadata": {},
   "source": [
    "As the entropy of the above dataset is 0, output can be labele as only class present in dataset'no' for attribute\"Strong\" of wind"
   ]
  },
  {
   "cell_type": "markdown",
   "id": "93963aa4",
   "metadata": {},
   "source": []
  },
  {
   "cell_type": "code",
   "execution_count": null,
   "id": "c53b7dec",
   "metadata": {},
   "outputs": [],
   "source": []
  },
  {
   "cell_type": "code",
   "execution_count": 8,
   "id": "c866725b",
   "metadata": {},
   "outputs": [],
   "source": []
  },
  {
   "cell_type": "code",
   "execution_count": 9,
   "id": "3312e7d7",
   "metadata": {},
   "outputs": [],
   "source": []
  },
  {
   "cell_type": "code",
   "execution_count": 10,
   "id": "41d67181",
   "metadata": {},
   "outputs": [],
   "source": []
  },
  {
   "cell_type": "code",
   "execution_count": null,
   "id": "b8fae336",
   "metadata": {},
   "outputs": [],
   "source": []
  }
 ],
 "metadata": {
  "kernelspec": {
   "display_name": "Python 3 (ipykernel)",
   "language": "python",
   "name": "python3"
  },
  "language_info": {
   "codemirror_mode": {
    "name": "ipython",
    "version": 3
   },
   "file_extension": ".py",
   "mimetype": "text/x-python",
   "name": "python",
   "nbconvert_exporter": "python",
   "pygments_lexer": "ipython3",
   "version": "3.9.7"
  }
 },
 "nbformat": 4,
 "nbformat_minor": 5
}
