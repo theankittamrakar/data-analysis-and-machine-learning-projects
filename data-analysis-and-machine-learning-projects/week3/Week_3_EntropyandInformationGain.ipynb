{
 "cells": [
  {
   "cell_type": "code",
   "execution_count": 18,
   "metadata": {
    "id": "TWw1szGxqHyQ"
   },
   "outputs": [],
   "source": [
    "path = \"./data/play_tennis.csv\""
   ]
  },
  {
   "cell_type": "code",
   "execution_count": 19,
   "metadata": {
    "id": "J09BUP2Sndl2"
   },
   "outputs": [],
   "source": [
    "# Necessary Imports\n",
    "import numpy as np \n",
    "import matplotlib.pyplot as plt\n",
    "%matplotlib inline\n",
    "import pandas as pd"
   ]
  },
  {
   "cell_type": "code",
   "execution_count": 20,
   "metadata": {
    "id": "RWV0R9i_p5W6"
   },
   "outputs": [],
   "source": [
    "# Helper Function\n",
    "# Initial plotting function\n",
    "def plot_function(function, inputs, title=None, ylabel=None):\n",
    "    fig, ax = plt.subplots()\n",
    "    ax.plot(inputs, function(inputs))\n",
    "    if title:\n",
    "        ax.set_title(title)\n",
    "    ax.set_xticks(np.linspace(0, 1, 11))\n",
    "    ax.set_xlabel(\"Probability of $x$\")\n",
    "    if ylabel:\n",
    "        ax.set_ylabel(ylabel)\n",
    "    plt.show()\n"
   ]
  },
  {
   "cell_type": "markdown",
   "metadata": {
    "id": "WrKQYrn3qxep"
   },
   "source": [
    "# Instructions and Requirements:\n",
    "## Instructions:\n",
    "*   This week students will have assignments,as describe in the presentations (Please be advised assignments will be graded).\n",
    "*   Goal is to make students friendly with Decision Tree algorithms,Random Forests, and also show case the hyper-parameter tuning.\n",
    "*   Please find the datasets in the google drive folders\n",
    "## Requirements:\n",
    "    *   Notebook Environment(Juopyter or Google Colab)\n",
    "    *   Students are expected to have following datasets:\n",
    "    *   \n",
    "\n"
   ]
  },
  {
   "cell_type": "markdown",
   "metadata": {
    "id": "I4iQty8-rY9b"
   },
   "source": [
    "#Week 3 Outline\n",
    "*   Gentle Introduction to ID3 Algorithm:\n",
    "  *   Calculate Entropy \n",
    "  *   Calculate Information Gain\n",
    "*   Gentle Introduction to Decision Tree and Random Forest\n",
    "  *   Implement RandomForest using SKlearn\n",
    "  *   Perform Cross-validation\n",
    "  *   Comparative analysis with and without hyper-parameter tuning\n",
    "  *   List item\n",
    "\n",
    "\n",
    "\n"
   ]
  },
  {
   "cell_type": "markdown",
   "metadata": {
    "id": "Vhl12kCvk8a_"
   },
   "source": [
    "##Information Content\n",
    "The _Shannon information_ or _information content_ is a measure of how surprising an event is. It is given by the following formula\n",
    "$$ I(x) = \\log_2 \\frac{1}{P(\\boldsymbol x=x)}\\ = - \\log_2 P(\\boldsymbol x=x) $$\n",
    "Mathematically we see that something that is completely certain ($P(\\boldsymbol x=x)=1$) has no new information in it at all ($I(x)=0$). According to the definition, the more unlikely an event is, the more information it contains. The Shannon information is therefore also known as the _surprisal_.\n"
   ]
  },
  {
   "cell_type": "markdown",
   "metadata": {
    "id": "HsdK9ijGlfQ-"
   },
   "source": [
    "### Task-I:\n",
    "Implement a function,\"information_content\", to compute the information content in bits i.e. use log with base 2 based on above formula, given the probability$'p(x)'$ of an event.\n",
    "  *   _Hint:_<br/>\n",
    "  *   The log base 2 can be acessed through np.log2. \n",
    "\n"
   ]
  },
  {
   "cell_type": "code",
   "execution_count": 68,
   "metadata": {
    "id": "oyIBYH5IlIhi"
   },
   "outputs": [],
   "source": [
    "def information_content(p_x):\n",
    "    \"\"\" Paramters:\n",
    "    p_x: probability of an event x\n",
    "    returns: Information content I \n",
    "    \"\"\"\n",
    "    for i in p_x:\n",
    "        if i == 0:\n",
    "            continue\n",
    "  ### Begin Solution\n",
    "  # remove the coment from I\n",
    "    I = -1 * (i * np.log2(p_x))  \n",
    "    return I\n",
    "  ### End Solution"
   ]
  },
  {
   "cell_type": "code",
   "execution_count": 69,
   "metadata": {
    "id": "iKlaoouznmkX"
   },
   "outputs": [
    {
     "ename": "TypeError",
     "evalue": "'float' object is not iterable",
     "output_type": "error",
     "traceback": [
      "\u001b[1;31m---------------------------------------------------------------------------\u001b[0m",
      "\u001b[1;31mTypeError\u001b[0m                                 Traceback (most recent call last)",
      "\u001b[1;32m~\\AppData\\Local\\Temp/ipykernel_1084/2606357123.py\u001b[0m in \u001b[0;36m<module>\u001b[1;34m\u001b[0m\n\u001b[0;32m      1\u001b[0m \u001b[1;31m# Function Test or Sanity Check\u001b[0m\u001b[1;33m\u001b[0m\u001b[1;33m\u001b[0m\u001b[0m\n\u001b[1;32m----> 2\u001b[1;33m \u001b[1;32massert\u001b[0m \u001b[0minformation_content\u001b[0m\u001b[1;33m(\u001b[0m\u001b[1;36m0.5\u001b[0m \u001b[1;33m)\u001b[0m \u001b[1;33m==\u001b[0m \u001b[1;36m1\u001b[0m\u001b[1;33m,\u001b[0m \u001b[1;34m\"Danger Alert\"\u001b[0m\u001b[1;33m\u001b[0m\u001b[1;33m\u001b[0m\u001b[0m\n\u001b[0m",
      "\u001b[1;32m~\\AppData\\Local\\Temp/ipykernel_1084/2350514723.py\u001b[0m in \u001b[0;36minformation_content\u001b[1;34m(p_x)\u001b[0m\n\u001b[0;32m      4\u001b[0m     \u001b[0mreturns\u001b[0m\u001b[1;33m:\u001b[0m \u001b[0mInformation\u001b[0m \u001b[0mcontent\u001b[0m \u001b[0mI\u001b[0m\u001b[1;33m\u001b[0m\u001b[1;33m\u001b[0m\u001b[0m\n\u001b[0;32m      5\u001b[0m     \"\"\"\n\u001b[1;32m----> 6\u001b[1;33m     \u001b[1;32mfor\u001b[0m \u001b[0mi\u001b[0m \u001b[1;32min\u001b[0m \u001b[0mp_x\u001b[0m\u001b[1;33m:\u001b[0m\u001b[1;33m\u001b[0m\u001b[1;33m\u001b[0m\u001b[0m\n\u001b[0m\u001b[0;32m      7\u001b[0m         \u001b[1;32mif\u001b[0m \u001b[0mi\u001b[0m \u001b[1;33m==\u001b[0m \u001b[1;36m0\u001b[0m\u001b[1;33m:\u001b[0m\u001b[1;33m\u001b[0m\u001b[1;33m\u001b[0m\u001b[0m\n\u001b[0;32m      8\u001b[0m             \u001b[1;32mcontinue\u001b[0m\u001b[1;33m\u001b[0m\u001b[1;33m\u001b[0m\u001b[0m\n",
      "\u001b[1;31mTypeError\u001b[0m: 'float' object is not iterable"
     ]
    }
   ],
   "source": [
    "# Function Test or Sanity Check\n",
    "assert information_content(0.5 ) == 1, \"Danger Alert\""
   ]
  },
  {
   "cell_type": "markdown",
   "metadata": {
    "id": "yk9MHMLApC2l"
   },
   "source": [
    "Remember the plot of surprisal vs probability from lecture:\n",
    "  *   Let's Replicate the plot we saw in classroom:\n"
   ]
  },
  {
   "cell_type": "code",
   "execution_count": 70,
   "metadata": {
    "colab": {
     "base_uri": "https://localhost:8080/",
     "height": 299
    },
    "id": "UI8mQmXjpBmQ",
    "outputId": "09f4a8aa-6bdd-451c-f723-95a04b6573e8"
   },
   "outputs": [
    {
     "data": {
      "image/png": "[encoded data removed]",
      "text/plain": [
       "<Figure size 432x288 with 1 Axes>"
      ]
     },
     "metadata": {
      "needs_background": "light"
     },
     "output_type": "display_data"
    }
   ],
   "source": [
    "# The code below plots a graph of the surprisal as a function the event probability:\n",
    "p_x = np.linspace(1, 0, 1001, endpoint=False)[1:] # Probabilities on (0, 1)\n",
    "plot_function(information_content, p_x, title=\"Probability vs. information\", ylabel=\"Information $I(x)$ (bits)\")"
   ]
  },
  {
   "cell_type": "markdown",
   "metadata": {
    "id": "pT6Vfaj_tFuv"
   },
   "source": [
    "## Entropy and Informaton Gain\n",
    "*   Entropy:\n",
    "Entropy is a measure of the amount of uncertainty in the dataset S. Its mathematical Representation:\n",
    "\\begin{align}\n",
    "        \\mathbf{Entropy = H(X)} = \\bf{-} [\\sum_{i=1}^{\\infty} p_i log_2 p_i ]\n",
    "    \\end{align}\n",
    "  *   Further simplification(For binary classes No and Yes :\n",
    "  \\begin{align}\n",
    "        \\mathbf{H(X)} = \\bf{-}p(Y) *log_2 (p(Y)) - p(N) * log_2(p(N))\n",
    "    \\end{align}\n",
    " \n",
    "*   <font color=\"red\"> $\\bf{Task -II} $ \n",
    "  *   Lets find the Entropy of Given Dataset:\n",
    "      *   Find the Entropy for Whole Dataset in it's current state.\n",
    "     *   Find the Emtropy for Each Attiributes of the datasets.\n",
    "\n"
   ]
  },
  {
   "cell_type": "code",
   "execution_count": 24,
   "metadata": {
    "id": "-NuwyAmUrQq1"
   },
   "outputs": [],
   "source": [
    "import pandas as pd\n",
    "dataset = pd.read_csv(path)"
   ]
  },
  {
   "cell_type": "code",
   "execution_count": 59,
   "metadata": {
    "colab": {
     "base_uri": "https://localhost:8080/",
     "height": 206
    },
    "id": "B0ds0MHSWv9l",
    "outputId": "ab5f17d7-c854-4a71-d24a-0c8cae5116c6"
   },
   "outputs": [
    {
     "data": {
      "text/html": [
       "<div>\n",
       "<style scoped>\n",
       "    .dataframe tbody tr th:only-of-type {\n",
       "        vertical-align: middle;\n",
       "    }\n",
       "\n",
       "    .dataframe tbody tr th {\n",
       "        vertical-align: top;\n",
       "    }\n",
       "\n",
       "    .dataframe thead th {\n",
       "        text-align: right;\n",
       "    }\n",
       "</style>\n",
       "<table border=\"1\" class=\"dataframe\">\n",
       "  <thead>\n",
       "    <tr style=\"text-align: right;\">\n",
       "      <th></th>\n",
       "      <th>outlook</th>\n",
       "      <th>temp</th>\n",
       "      <th>humidity</th>\n",
       "      <th>wind</th>\n",
       "      <th>play</th>\n",
       "    </tr>\n",
       "  </thead>\n",
       "  <tbody>\n",
       "    <tr>\n",
       "      <th>0</th>\n",
       "      <td>Sunny</td>\n",
       "      <td>Hot</td>\n",
       "      <td>High</td>\n",
       "      <td>Weak</td>\n",
       "      <td>No</td>\n",
       "    </tr>\n",
       "    <tr>\n",
       "      <th>1</th>\n",
       "      <td>Sunny</td>\n",
       "      <td>Hot</td>\n",
       "      <td>High</td>\n",
       "      <td>Strong</td>\n",
       "      <td>No</td>\n",
       "    </tr>\n",
       "    <tr>\n",
       "      <th>2</th>\n",
       "      <td>Overcast</td>\n",
       "      <td>Hot</td>\n",
       "      <td>High</td>\n",
       "      <td>Weak</td>\n",
       "      <td>Yes</td>\n",
       "    </tr>\n",
       "    <tr>\n",
       "      <th>3</th>\n",
       "      <td>Rain</td>\n",
       "      <td>Mild</td>\n",
       "      <td>High</td>\n",
       "      <td>Weak</td>\n",
       "      <td>Yes</td>\n",
       "    </tr>\n",
       "    <tr>\n",
       "      <th>4</th>\n",
       "      <td>Rain</td>\n",
       "      <td>Cool</td>\n",
       "      <td>Normal</td>\n",
       "      <td>Weak</td>\n",
       "      <td>Yes</td>\n",
       "    </tr>\n",
       "  </tbody>\n",
       "</table>\n",
       "</div>"
      ],
      "text/plain": [
       "    outlook  temp humidity    wind play\n",
       "0     Sunny   Hot     High    Weak   No\n",
       "1     Sunny   Hot     High  Strong   No\n",
       "2  Overcast   Hot     High    Weak  Yes\n",
       "3      Rain  Mild     High    Weak  Yes\n",
       "4      Rain  Cool   Normal    Weak  Yes"
      ]
     },
     "execution_count": 59,
     "metadata": {},
     "output_type": "execute_result"
    }
   ],
   "source": [
    "dataset.head()"
   ]
  },
  {
   "cell_type": "code",
   "execution_count": 27,
   "metadata": {
    "id": "o4yFiOiMhZZG"
   },
   "outputs": [],
   "source": [
    "# identify features and label and seperate it:\n",
    "features = dataset.iloc[:, :-1]\n",
    "target = dataset.iloc[:,-1:]\n",
    "# sanity check\n",
    "assert features.shape[0] == target.shape[0], \" len(features) == len(target)\""
   ]
  },
  {
   "cell_type": "markdown",
   "metadata": {
    "id": "OX9ys_Q2dnrQ"
   },
   "source": [
    "#steps\n",
    "![img-1.PNG](data:image/png;base64,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)"
   ]
  },
  {
   "cell_type": "code",
   "execution_count": 28,
   "metadata": {
    "colab": {
     "base_uri": "https://localhost:8080/"
    },
    "id": "E2_2lmn7lDwx",
    "outputId": "b034fc08-042a-47e9-8e63-9de9e04bacee"
   },
   "outputs": [
    {
     "name": "stdout",
     "output_type": "stream",
     "text": [
      "0.6428571428571429 0.35714285714285715\n"
     ]
    },
    {
     "data": {
      "text/plain": [
       "0.9402859586706311"
      ]
     },
     "execution_count": 28,
     "metadata": {},
     "output_type": "execute_result"
    }
   ],
   "source": [
    "tot = len(dataset)\n",
    "tot_n = dataset[dataset[\"play\"] == \"No\"].shape[0]\n",
    "tot_y = dataset[dataset[\"play\"] == \"Yes\"].shape[0]\n",
    "prob_y = tot_y/tot\n",
    "prob_n = tot_n/tot\n",
    "print(prob_y, prob_n)\n",
    "H_tot = -prob_y * np.log2(prob_y) - prob_n * np.log2(prob_n)\n",
    "H_tot"
   ]
  },
  {
   "cell_type": "markdown",
   "metadata": {
    "id": "0yvTOu8gqHhg"
   },
   "source": [
    "# Steps:2\n",
    "![img-2.PNG](data:image/png;base64,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)"
   ]
  },
  {
   "cell_type": "code",
   "execution_count": 29,
   "metadata": {
    "colab": {
     "base_uri": "https://localhost:8080/"
    },
    "id": "nw9fmdsqqhiz",
    "outputId": "4fca7677-84c2-4495-a005-76a186c4dd83"
   },
   "outputs": [
    {
     "name": "stdout",
     "output_type": "stream",
     "text": [
      "0.9709505944546686\n"
     ]
    }
   ],
   "source": [
    "outlook = dataset[\"outlook\"].unique()\n",
    "sunny = dataset[dataset[\"outlook\"] == \"Sunny\"]\n",
    "#print(sunny.head())\n",
    "tot_sunny = len(sunny)\n",
    "tot_sunny_yes = sunny[sunny[\"play\"] == \"Yes\"].shape[0]\n",
    "tot_sunny_no = sunny[sunny[\"play\"] == \"No\"].shape[0]\n",
    "prob_sunny_yes = tot_sunny_yes/tot_sunny\n",
    "prob_sunny_no = tot_sunny_no/tot_sunny\n",
    "H_outlook_sunny = -prob_sunny_yes * np.log2(prob_sunny_yes) - prob_sunny_no * np.log2(prob_sunny_no)\n",
    "print(H_outlook_sunny)"
   ]
  },
  {
   "cell_type": "markdown",
   "metadata": {
    "id": "RAcxsmyUvoA_"
   },
   "source": [
    "# Find Out H(outlook=Rain) and H(outlook=overcast)\n",
    "![img-3.PNG](data:image/png;base64,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)"
   ]
  },
  {
   "cell_type": "code",
   "execution_count": 30,
   "metadata": {
    "id": "n13QNmATwDQP"
   },
   "outputs": [
    {
     "name": "stdout",
     "output_type": "stream",
     "text": [
      "0.9709505944546686\n"
     ]
    }
   ],
   "source": [
    "# Your Code Here:\n",
    "rain = dataset[dataset[\"outlook\"] == \"Rain\"]\n",
    "#print(rain.head())\n",
    "tot_rain = len(rain)\n",
    "tot_rain_yes = rain[rain[\"play\"] == \"Yes\"].shape[0]\n",
    "tot_rain_no = rain[rain[\"play\"] == \"No\"].shape[0]\n",
    "prob_rain_yes = tot_rain_yes/tot_rain\n",
    "prob_rain_no = tot_rain_no/tot_rain\n",
    "H_outlook_rain = -prob_rain_yes * np.log2(prob_rain_yes) - prob_rain_no * np.log2(prob_rain_no)\n",
    "print(H_outlook_rain)"
   ]
  },
  {
   "cell_type": "code",
   "execution_count": 32,
   "metadata": {},
   "outputs": [
    {
     "name": "stdout",
     "output_type": "stream",
     "text": [
      "2.9897352853986267e-08\n"
     ]
    }
   ],
   "source": [
    "overcast = dataset[dataset[\"outlook\"] == \"Overcast\"]\n",
    "#print(overcast.head())\n",
    "tot_overcast = len(overcast)\n",
    "tot_overcast_yes = overcast[overcast[\"play\"] == \"Yes\"].shape[0]\n",
    "tot_overcast_no = overcast[overcast[\"play\"] == \"No\"].shape[0]\n",
    "prob_overcast_yes = tot_overcast_yes/tot_overcast\n",
    "prob_overcast_no = tot_overcast_no/tot_overcast\n",
    "prob_overcast_no = 0.000000001\n",
    "H_outlook_overcast = -prob_overcast_yes * np.log2(prob_overcast_yes) - prob_overcast_no * np.log2(prob_overcast_no)\n",
    "print(H_outlook_overcast)"
   ]
  },
  {
   "cell_type": "markdown",
   "metadata": {
    "id": "ANwhVMO6w9eY"
   },
   "source": [
    "# Step:3: \n",
    "Calculate the Total Information for attributes Outlook:\n",
    "*   \\begin{align}\n",
    "        \\mathbf{Entropy(T,X)} =  [\\sum_{c=X} p(c)E(c) ]\n",
    "    \\end{align}\n",
    "\n",
    "<font color=\"red\"> $\\bf{T: Current State}$ \n",
    "<font color=\"red\"> $\\bf{X: Current Attributes}$ \n",
    "  * In our example:\n",
    "        *   Current State = H(play)\n",
    "        *   X = Outlook\n",
    "        *   I(Outlook) = p(sunny) * H(outlook=sunny) + p(Rain)*H(outlook=Rain)\n",
    "        +p(Overcast) * H(outlook=Overcast)\n",
    "\n",
    "\n",
    "\n",
    "\n",
    "\n"
   ]
  },
  {
   "cell_type": "code",
   "execution_count": 41,
   "metadata": {
    "id": "hA8RKBQlw9BA"
   },
   "outputs": [
    {
     "data": {
      "text/plain": [
       "0.6935361474382926"
      ]
     },
     "execution_count": 41,
     "metadata": {},
     "output_type": "execute_result"
    }
   ],
   "source": [
    "# Find the solutions:\n",
    "prob_sun = tot_sunny/tot\n",
    "prob_rain =tot_rain/tot\n",
    "prob_overcast = tot_overcast/tot\n",
    "I_Outlook = prob_sun * H_outlook_sunny + prob_rain * H_outlook_rain + prob_overcast * H_outlook_overcast\n",
    "I_Outlook"
   ]
  },
  {
   "cell_type": "markdown",
   "metadata": {
    "id": "oHJCVMfs0r8i"
   },
   "source": [
    "# Inforamtion Gain:\n",
    "![img-4.PNG](data:image/png;base64,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)"
   ]
  },
  {
   "cell_type": "code",
   "execution_count": 43,
   "metadata": {
    "id": "PEjOb_WG1Bsl"
   },
   "outputs": [
    {
     "data": {
      "text/plain": [
       "0.24674981123233852"
      ]
     },
     "execution_count": 43,
     "metadata": {},
     "output_type": "execute_result"
    }
   ],
   "source": [
    "InformationGain_Outlook = H_tot - I_Outlook\n",
    "InformationGain_Outlook"
   ]
  },
  {
   "cell_type": "markdown",
   "metadata": {},
   "source": [
    "### TEMP"
   ]
  },
  {
   "cell_type": "code",
   "execution_count": 44,
   "metadata": {
    "id": "F4LMPlZu1BvN"
   },
   "outputs": [],
   "source": [
    "temp = dataset[\"temp\"].unique()"
   ]
  },
  {
   "cell_type": "code",
   "execution_count": 45,
   "metadata": {
    "id": "MwGSFzxD1Bxz"
   },
   "outputs": [
    {
     "name": "stdout",
     "output_type": "stream",
     "text": [
      "1.0\n"
     ]
    }
   ],
   "source": [
    "hot = dataset[dataset[\"temp\"] == \"Hot\"]\n",
    "tot_hot = len(hot)\n",
    "tot_hot_yes = hot[hot[\"play\"] == \"Yes\"].shape[0]\n",
    "tot_hot_no = hot[hot[\"play\"] == \"No\"].shape[0]\n",
    "prob_hot_yes = tot_hot_yes/tot_hot\n",
    "prob_hot_no = tot_hot_no/tot_hot\n",
    "H_outlook_hot = -prob_hot_yes * np.log2(prob_hot_yes) - prob_hot_no * np.log2(prob_hot_no)\n",
    "print(H_outlook_hot)"
   ]
  },
  {
   "cell_type": "code",
   "execution_count": 46,
   "metadata": {
    "id": "HCzKEV6E1B0d"
   },
   "outputs": [
    {
     "name": "stdout",
     "output_type": "stream",
     "text": [
      "0.9182958340544896\n"
     ]
    }
   ],
   "source": [
    "mild = dataset[dataset[\"temp\"] == \"Mild\"]\n",
    "tot_mild = len(mild)\n",
    "tot_mild_yes = mild[mild[\"play\"] == \"Yes\"].shape[0]\n",
    "tot_mild_no = mild[mild[\"play\"] == \"No\"].shape[0]\n",
    "prob_mild_yes = tot_mild_yes/tot_mild\n",
    "prob_mild_no = tot_mild_no/tot_mild\n",
    "H_outlook_mild = -prob_mild_yes * np.log2(prob_mild_yes) - prob_mild_no * np.log2(prob_mild_no)\n",
    "print(H_outlook_mild)"
   ]
  },
  {
   "cell_type": "code",
   "execution_count": 47,
   "metadata": {},
   "outputs": [
    {
     "name": "stdout",
     "output_type": "stream",
     "text": [
      "0.8112781244591328\n"
     ]
    }
   ],
   "source": [
    "cool = dataset[dataset[\"temp\"] == \"Cool\"]\n",
    "tot_cool = len(cool)\n",
    "tot_cool_yes = cool[cool[\"play\"] == \"Yes\"].shape[0]\n",
    "tot_cool_no = cool[cool[\"play\"] == \"No\"].shape[0]\n",
    "prob_cool_yes = tot_cool_yes/tot_cool\n",
    "prob_cool_no = tot_cool_no/tot_cool\n",
    "H_outlook_cool = -prob_cool_yes * np.log2(prob_cool_yes) - prob_cool_no * np.log2(prob_cool_no)\n",
    "print(H_outlook_cool)"
   ]
  },
  {
   "cell_type": "code",
   "execution_count": 48,
   "metadata": {},
   "outputs": [
    {
     "data": {
      "text/plain": [
       "0.9110633930116763"
      ]
     },
     "execution_count": 48,
     "metadata": {},
     "output_type": "execute_result"
    }
   ],
   "source": [
    "prob_hot = tot_hot/tot\n",
    "prob_mild =tot_mild/tot\n",
    "prob_cool = tot_cool/tot\n",
    "I_Temp = prob_hot * H_outlook_hot + prob_mild * H_outlook_mild + prob_cool * H_outlook_cool\n",
    "I_Temp"
   ]
  },
  {
   "cell_type": "code",
   "execution_count": 49,
   "metadata": {},
   "outputs": [
    {
     "data": {
      "text/plain": [
       "0.02922256565895487"
      ]
     },
     "execution_count": 49,
     "metadata": {},
     "output_type": "execute_result"
    }
   ],
   "source": [
    "InformationGain_Temp = H_tot - I_Temp\n",
    "InformationGain_Temp"
   ]
  },
  {
   "cell_type": "markdown",
   "metadata": {},
   "source": [
    "### Humidity\n"
   ]
  },
  {
   "cell_type": "code",
   "execution_count": 50,
   "metadata": {},
   "outputs": [],
   "source": [
    "humidity = dataset[\"humidity\"].unique()"
   ]
  },
  {
   "cell_type": "code",
   "execution_count": 54,
   "metadata": {},
   "outputs": [
    {
     "name": "stdout",
     "output_type": "stream",
     "text": [
      "0.5916727785823275\n"
     ]
    }
   ],
   "source": [
    "normal = dataset[dataset[\"humidity\"] == \"Normal\"]\n",
    "tot_normal = len(normal)\n",
    "tot_normal_yes = normal[normal[\"play\"] == \"Yes\"].shape[0]\n",
    "tot_normal_no = normal[normal[\"play\"] == \"No\"].shape[0]\n",
    "prob_normal_yes = tot_normal_yes/tot_normal\n",
    "prob_normal_no = tot_normal_no/tot_normal\n",
    "H_outlook_normal = -prob_normal_yes * np.log2(prob_normal_yes) - prob_normal_no * np.log2(prob_normal_no)\n",
    "print(H_outlook_normal)"
   ]
  },
  {
   "cell_type": "code",
   "execution_count": 55,
   "metadata": {},
   "outputs": [
    {
     "name": "stdout",
     "output_type": "stream",
     "text": [
      "0.9852281360342515\n"
     ]
    }
   ],
   "source": [
    "high = dataset[dataset[\"humidity\"] == \"High\"]\n",
    "tot_high = len(high)\n",
    "tot_high_yes = high[high[\"play\"] == \"Yes\"].shape[0]\n",
    "tot_high_no = high[high[\"play\"] == \"No\"].shape[0]\n",
    "prob_high_yes = tot_high_yes/tot_high\n",
    "prob_high_no = tot_high_no/tot_high\n",
    "H_outlook_high = -prob_high_yes * np.log2(prob_high_yes) - prob_high_no * np.log2(prob_high_no)\n",
    "print(H_outlook_high)"
   ]
  },
  {
   "cell_type": "code",
   "execution_count": 56,
   "metadata": {},
   "outputs": [
    {
     "data": {
      "text/plain": [
       "0.7884504573082896"
      ]
     },
     "execution_count": 56,
     "metadata": {},
     "output_type": "execute_result"
    }
   ],
   "source": [
    "prob_normal = tot_normal/tot\n",
    "prob_high =tot_high/tot\n",
    "I_Humidity = prob_normal * H_outlook_normal + prob_high * H_outlook_high \n",
    "I_Humidity"
   ]
  },
  {
   "cell_type": "code",
   "execution_count": 57,
   "metadata": {},
   "outputs": [
    {
     "data": {
      "text/plain": [
       "0.15183550136234159"
      ]
     },
     "execution_count": 57,
     "metadata": {},
     "output_type": "execute_result"
    }
   ],
   "source": [
    "InformationGain_Humidity = H_tot - I_Humidity\n",
    "InformationGain_Humidity"
   ]
  },
  {
   "cell_type": "markdown",
   "metadata": {},
   "source": [
    "### Wind"
   ]
  },
  {
   "cell_type": "code",
   "execution_count": 58,
   "metadata": {},
   "outputs": [],
   "source": [
    "wind = dataset[\"wind\"].unique()"
   ]
  },
  {
   "cell_type": "code",
   "execution_count": 60,
   "metadata": {},
   "outputs": [
    {
     "name": "stdout",
     "output_type": "stream",
     "text": [
      "0.8112781244591328\n"
     ]
    }
   ],
   "source": [
    "weak = dataset[dataset[\"wind\"] == \"Weak\"]\n",
    "tot_weak = len(weak)\n",
    "tot_weak_yes = weak[weak[\"play\"] == \"Yes\"].shape[0]\n",
    "tot_weak_no = weak[weak[\"play\"] == \"No\"].shape[0]\n",
    "prob_weak_yes = tot_weak_yes/tot_weak\n",
    "prob_weak_no = tot_weak_no/tot_weak\n",
    "H_outlook_weak = -prob_weak_yes * np.log2(prob_weak_yes) - prob_weak_no * np.log2(prob_weak_no)\n",
    "print(H_outlook_weak)"
   ]
  },
  {
   "cell_type": "code",
   "execution_count": 61,
   "metadata": {},
   "outputs": [
    {
     "name": "stdout",
     "output_type": "stream",
     "text": [
      "1.0\n"
     ]
    }
   ],
   "source": [
    "strong = dataset[dataset[\"wind\"] == \"Strong\"]\n",
    "tot_strong = len(strong)\n",
    "tot_strong_yes = strong[strong[\"play\"] == \"Yes\"].shape[0]\n",
    "tot_strong_no = strong[strong[\"play\"] == \"No\"].shape[0]\n",
    "prob_strong_yes = tot_strong_yes/tot_strong\n",
    "prob_strong_no = tot_strong_no/tot_strong\n",
    "H_outlook_strong = -prob_strong_yes * np.log2(prob_strong_yes) - prob_strong_no * np.log2(prob_strong_no)\n",
    "print(H_outlook_strong)"
   ]
  },
  {
   "cell_type": "code",
   "execution_count": 62,
   "metadata": {},
   "outputs": [
    {
     "data": {
      "text/plain": [
       "0.8921589282623617"
      ]
     },
     "execution_count": 62,
     "metadata": {},
     "output_type": "execute_result"
    }
   ],
   "source": [
    "prob_weak = tot_weak/tot\n",
    "prob_strong =tot_strong/tot\n",
    "I_Wind = prob_weak * H_outlook_weak + prob_strong * H_outlook_strong \n",
    "I_Wind"
   ]
  },
  {
   "cell_type": "code",
   "execution_count": 63,
   "metadata": {},
   "outputs": [
    {
     "data": {
      "text/plain": [
       "0.04812703040826949"
      ]
     },
     "execution_count": 63,
     "metadata": {},
     "output_type": "execute_result"
    }
   ],
   "source": [
    "InformationGain_Wind = H_tot - I_Wind\n",
    "InformationGain_Wind"
   ]
  },
  {
   "cell_type": "markdown",
   "metadata": {},
   "source": [
    "As the feature Outlook has the highest value, so it will be selected for our tree node."
   ]
  },
  {
   "cell_type": "code",
   "execution_count": 64,
   "metadata": {},
   "outputs": [],
   "source": []
  },
  {
   "cell_type": "code",
   "execution_count": null,
   "metadata": {},
   "outputs": [],
   "source": []
  }
 ],
 "metadata": {
  "colab": {
   "collapsed_sections": [
    "I4iQty8-rY9b",
    "OX9ys_Q2dnrQ",
    "0yvTOu8gqHhg",
    "RAcxsmyUvoA_",
    "ANwhVMO6w9eY",
    "oHJCVMfs0r8i"
   ],
   "name": "Week_3_EntropyandInformationGain.ipynb",
   "provenance": []
  },
  "kernelspec": {
   "display_name": "Python 3 (ipykernel)",
   "language": "python",
   "name": "python3"
  },
  "language_info": {
   "codemirror_mode": {
    "name": "ipython",
    "version": 3
   },
   "file_extension": ".py",
   "mimetype": "text/x-python",
   "name": "python",
   "nbconvert_exporter": "python",
   "pygments_lexer": "ipython3",
   "version": "3.9.7"
  }
 },
 "nbformat": 4,
 "nbformat_minor": 1
}
